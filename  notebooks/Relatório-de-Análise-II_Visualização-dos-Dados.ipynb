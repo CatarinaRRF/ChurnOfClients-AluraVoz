{
  "nbformat": 4,
  "nbformat_minor": 0,
  "metadata": {
    "colab": {
      "name": "Relatório de Análise II - Visualização dos Dados.ipynb",
      "provenance": [],
      "collapsed_sections": [
        "CtiptMimjI35",
        "n6oknXuRc7xD",
        "zc7EMtWuwUL9",
        "j4eIFtvR2I8G",
        "GukcS05C2R2e"
      ],
      "mount_file_id": "1pXJfmpMAZNaCfHaY-jMq-utUTGe3qHxl",
      "authorship_tag": "ABX9TyM6QdueC2jZT6xgl32cjk4b",
      "include_colab_link": true
    },
    "kernelspec": {
      "name": "python3",
      "display_name": "Python 3"
    },
    "language_info": {
      "name": "python"
    }
  },
  "cells": [
    {
      "cell_type": "markdown",
      "metadata": {
        "id": "view-in-github",
        "colab_type": "text"
      },
      "source": [
        "<a href=\"https://colab.research.google.com/github/CatarinaRRF/Churn_Alura_Voz/blob/main/%20notebooks/Relat%C3%B3rio-de-An%C3%A1lise-II_Visualiza%C3%A7%C3%A3o-dos-Dados.ipynb\" target=\"_parent\"><img src=\"https://colab.research.google.com/assets/colab-badge.svg\" alt=\"Open In Colab\"/></a>"
      ]
    },
    {
      "cell_type": "markdown",
      "source": [
        "# **<img style=\"display: inline; margin: 15px 0;\" title=\"heartica_logo\" src= https://raw.githubusercontent.com/CatarinaRRF/Churn_Alura_Voz/main/data/external/logo_alura_voz.png alt=\"\" width=\"50\" height=\"50\"/><font color=2C3E50> Ralatório de Análise II - Visualização dos Dados</font>**\n",
        "\n",
        "![image.png](data:image/png;base64,iVBORw0KGgoAAAANSUhEUgAAAyAAAAAZCAYAAADJ7UqQAAAAAXNSR0IArs4c6QAAAARnQU1BAACxjwv8YQUAAAAJcEhZcwAADsMAAA7DAcdvqGQAAACfSURBVHhe7dcxAQAgDMAwBKEBDfNvZrjolSMicu6bBQAAKAgIAACQERAAACAjIAAAQEZAAACAjIAAAAAZAQEAADICAgAAZAQEAADICAgAAJAREAAAICMgAABARkAAAICMgAAAABkBAQAAMgICAABkBAQAAMgICAAAkBEQAAAgIyAAAEBGQAAAgIyAAAAAGQEBAAAyAgIAAGQEBAAAiMx+u8Sc+6L3MQ0AAAAASUVORK5CYII=)\n",
        "\n",
        "<font size=\"3.5\">\n",
        "<nav>\n",
        "<a href='https://colab.research.google.com/drive/1D_-bOaoy-H7ybiezjz6tnRLLnJIYbpMz#scrollTo=5S96UuX-kSan'> Relatório I - Tratamento dos dados</a> ||\n",
        "<a href='https://colab.research.google.com/drive/1OEbCcqU4XS1l95fLunfQOuunN6vgx_xW'> Relatório III - Modelagem dos dados</a> ||\n",
        "<a href='https://colab.research.google.com/drive/1dr5ARLZ5a0NRIaGm5Lr5mPavn4hyNwVj'>Relatório de Análise IV - Dashboard</a> ||\n",
        "<a href='https://github.com/CatarinaRRF/Churn_Alura_Voz'>Github</a> ||\n",
        "\n",
        "</nav>\n",
        "\n",
        "---\n",
        "[Palleta](https://coolors.co/2c3e50-415c76-7b99b7-82d712-b6ea44)"
      ],
      "metadata": {
        "id": "6zK8HXbAiKIS"
      }
    },
    {
      "cell_type": "markdown",
      "source": [
        "# <font color=2C3E50> **01. Introdução**"
      ],
      "metadata": {
        "id": "CtiptMimjI35"
      }
    },
    {
      "cell_type": "markdown",
      "source": [
        "<div style=\"text-align:justify\">\n",
        "\n",
        "A <font color=82D712><b>análise exploratória de dados (EDA)</b></font> tem como intenção a analise e investigação dos conjuntos de dados e resumir suas principais características, geralmente usando métodos de visualização de dados. Deste modo, este relatório abordará o EDA a partir de <b>3 hipótesis principais</b> e a visualização de dados como direcionadores para a análise. <sup><a href=\"https://www.ibm.com/br-pt/cloud/learn/exploratory-data-analysis\">[1]</a></sup>\n",
        "<br>\n",
        "A visualização de dados é a apresentação de dados em um formato pictórico ou gráfico. Ela permite que os tomadores de decisão vejam as análises apresentadas visualmente, para que possam entender conceitos difíceis ou identificar novos padrões. Com a <font color=82D712><b>visualização interativa</b></font> (ploty), você pode levar o conceito um passo adiante usando a tecnologia para detalhar gráficos e gráficos para obter mais detalhes, alterando interativamente quais dados você vê e como eles são processados.\n",
        "<br>\n",
        "Um dos maiores desafios da <b>visualição de dados</b> é decidir quais recursos visuais usar para melhor representar as informações, por essa razão se torna importante identificar o tipo de data que se tem e qual tipo de análise desejado. <br>"
      ],
      "metadata": {
        "id": "vdDxGUjbdIha"
      }
    },
    {
      "cell_type": "markdown",
      "source": [
        "# <font color=2C3E50><b>02. Impotação e Formação de Hipóteses<b>"
      ],
      "metadata": {
        "id": "n6oknXuRc7xD"
      }
    },
    {
      "cell_type": "markdown",
      "source": [
        "<font color=82D712> **Importando Bibliotecas**"
      ],
      "metadata": {
        "id": "xrEgKcnzdRkF"
      }
    },
    {
      "cell_type": "code",
      "source": [
        "baixar = ! pip install jupyter-dash"
      ],
      "metadata": {
        "id": "HtRZb3aeWHwH"
      },
      "execution_count": null,
      "outputs": []
    },
    {
      "cell_type": "code",
      "execution_count": null,
      "metadata": {
        "id": "aRRbhQY6iD12"
      },
      "outputs": [],
      "source": [
        "import pandas as pd\n",
        "import numpy as np"
      ]
    },
    {
      "cell_type": "code",
      "source": [
        "#Gráficos\n",
        "%matplotlib inline\n",
        "import matplotlib.pyplot as plt\n",
        "import matplotlib.patches as mpatches\n",
        "\n",
        "import seaborn as sns"
      ],
      "metadata": {
        "id": "0ELflmwDgZPN"
      },
      "execution_count": null,
      "outputs": []
    },
    {
      "cell_type": "code",
      "source": [
        "#Plotly\n",
        "import plotly as go\n",
        "import plotly.express as px\n",
        "\n",
        "#Dash\n",
        "from jupyter_dash import JupyterDash\n",
        "from dash import Dash, dcc, html, Input, Output"
      ],
      "metadata": {
        "id": "wA8KsFLqgsJk"
      },
      "execution_count": null,
      "outputs": []
    },
    {
      "cell_type": "code",
      "source": [
        "df_aluravoz = pd.read_csv('/content/data_alura_voz.csv')\n",
        "df_aluravoz = df_aluravoz.rename (columns = {'Internet_Fiber optic':'Internet_Fiber_Optic'})\n",
        "df_aluravoz.head()"
      ],
      "metadata": {
        "id": "_7O4tosydgHD",
        "colab": {
          "base_uri": "https://localhost:8080/",
          "height": 317
        },
        "outputId": "4657f82a-a751-4652-a4a0-ccf71e7d001e"
      },
      "execution_count": null,
      "outputs": [
        {
          "output_type": "execute_result",
          "data": {
            "text/plain": [
              "   Churn  Sexo  Idoso  Parceiros  Dependentes  Tenure  Telefonia  \\\n",
              "0      0     1      0          1            1       9          1   \n",
              "1      0     0      0          0            0       9          1   \n",
              "2      1     0      0          0            0       4          1   \n",
              "3      1     0      1          1            0      13          1   \n",
              "4      1     1      1          1            0       3          1   \n",
              "\n",
              "   Multiplas_Linhas  Segurança_On-line  Backup_On-line  ...  Cobrança_Diário  \\\n",
              "0                 0                  0               1  ...             2.15   \n",
              "1                 1                  0               0  ...             1.96   \n",
              "2                 0                  0               0  ...             2.42   \n",
              "3                 0                  0               1  ...             3.21   \n",
              "4                 0                  0               0  ...             2.75   \n",
              "\n",
              "   Cobrança_Mensal  Cobrança_Total  Contrato_Mensal  Contrato_Anual  \\\n",
              "0             65.6          593.30                0               1   \n",
              "1             59.9          542.40                1               0   \n",
              "2             73.9          280.85                1               0   \n",
              "3             98.0         1237.85                1               0   \n",
              "4             83.9          267.40                1               0   \n",
              "\n",
              "   Contrato_Bianual  Pagamento_Transferência(Auto)  \\\n",
              "0                 0                              0   \n",
              "1                 0                              0   \n",
              "2                 0                              0   \n",
              "3                 0                              0   \n",
              "4                 0                              0   \n",
              "\n",
              "   Pagamento_Cartão_Crédito(Auto)  Pagamento_Cheque_Eletronico  \\\n",
              "0                               0                            0   \n",
              "1                               0                            0   \n",
              "2                               0                            1   \n",
              "3                               0                            1   \n",
              "4                               0                            0   \n",
              "\n",
              "   Pagamento_Cheque_Email  \n",
              "0                       1  \n",
              "1                       1  \n",
              "2                       0  \n",
              "3                       0  \n",
              "4                       1  \n",
              "\n",
              "[5 rows x 28 columns]"
            ],
            "text/html": [
              "\n",
              "  <div id=\"df-f28b7e23-6114-4880-b52c-df457eff09dc\">\n",
              "    <div class=\"colab-df-container\">\n",
              "      <div>\n",
              "<style scoped>\n",
              "    .dataframe tbody tr th:only-of-type {\n",
              "        vertical-align: middle;\n",
              "    }\n",
              "\n",
              "    .dataframe tbody tr th {\n",
              "        vertical-align: top;\n",
              "    }\n",
              "\n",
              "    .dataframe thead th {\n",
              "        text-align: right;\n",
              "    }\n",
              "</style>\n",
              "<table border=\"1\" class=\"dataframe\">\n",
              "  <thead>\n",
              "    <tr style=\"text-align: right;\">\n",
              "      <th></th>\n",
              "      <th>Churn</th>\n",
              "      <th>Sexo</th>\n",
              "      <th>Idoso</th>\n",
              "      <th>Parceiros</th>\n",
              "      <th>Dependentes</th>\n",
              "      <th>Tenure</th>\n",
              "      <th>Telefonia</th>\n",
              "      <th>Multiplas_Linhas</th>\n",
              "      <th>Segurança_On-line</th>\n",
              "      <th>Backup_On-line</th>\n",
              "      <th>...</th>\n",
              "      <th>Cobrança_Diário</th>\n",
              "      <th>Cobrança_Mensal</th>\n",
              "      <th>Cobrança_Total</th>\n",
              "      <th>Contrato_Mensal</th>\n",
              "      <th>Contrato_Anual</th>\n",
              "      <th>Contrato_Bianual</th>\n",
              "      <th>Pagamento_Transferência(Auto)</th>\n",
              "      <th>Pagamento_Cartão_Crédito(Auto)</th>\n",
              "      <th>Pagamento_Cheque_Eletronico</th>\n",
              "      <th>Pagamento_Cheque_Email</th>\n",
              "    </tr>\n",
              "  </thead>\n",
              "  <tbody>\n",
              "    <tr>\n",
              "      <th>0</th>\n",
              "      <td>0</td>\n",
              "      <td>1</td>\n",
              "      <td>0</td>\n",
              "      <td>1</td>\n",
              "      <td>1</td>\n",
              "      <td>9</td>\n",
              "      <td>1</td>\n",
              "      <td>0</td>\n",
              "      <td>0</td>\n",
              "      <td>1</td>\n",
              "      <td>...</td>\n",
              "      <td>2.15</td>\n",
              "      <td>65.6</td>\n",
              "      <td>593.30</td>\n",
              "      <td>0</td>\n",
              "      <td>1</td>\n",
              "      <td>0</td>\n",
              "      <td>0</td>\n",
              "      <td>0</td>\n",
              "      <td>0</td>\n",
              "      <td>1</td>\n",
              "    </tr>\n",
              "    <tr>\n",
              "      <th>1</th>\n",
              "      <td>0</td>\n",
              "      <td>0</td>\n",
              "      <td>0</td>\n",
              "      <td>0</td>\n",
              "      <td>0</td>\n",
              "      <td>9</td>\n",
              "      <td>1</td>\n",
              "      <td>1</td>\n",
              "      <td>0</td>\n",
              "      <td>0</td>\n",
              "      <td>...</td>\n",
              "      <td>1.96</td>\n",
              "      <td>59.9</td>\n",
              "      <td>542.40</td>\n",
              "      <td>1</td>\n",
              "      <td>0</td>\n",
              "      <td>0</td>\n",
              "      <td>0</td>\n",
              "      <td>0</td>\n",
              "      <td>0</td>\n",
              "      <td>1</td>\n",
              "    </tr>\n",
              "    <tr>\n",
              "      <th>2</th>\n",
              "      <td>1</td>\n",
              "      <td>0</td>\n",
              "      <td>0</td>\n",
              "      <td>0</td>\n",
              "      <td>0</td>\n",
              "      <td>4</td>\n",
              "      <td>1</td>\n",
              "      <td>0</td>\n",
              "      <td>0</td>\n",
              "      <td>0</td>\n",
              "      <td>...</td>\n",
              "      <td>2.42</td>\n",
              "      <td>73.9</td>\n",
              "      <td>280.85</td>\n",
              "      <td>1</td>\n",
              "      <td>0</td>\n",
              "      <td>0</td>\n",
              "      <td>0</td>\n",
              "      <td>0</td>\n",
              "      <td>1</td>\n",
              "      <td>0</td>\n",
              "    </tr>\n",
              "    <tr>\n",
              "      <th>3</th>\n",
              "      <td>1</td>\n",
              "      <td>0</td>\n",
              "      <td>1</td>\n",
              "      <td>1</td>\n",
              "      <td>0</td>\n",
              "      <td>13</td>\n",
              "      <td>1</td>\n",
              "      <td>0</td>\n",
              "      <td>0</td>\n",
              "      <td>1</td>\n",
              "      <td>...</td>\n",
              "      <td>3.21</td>\n",
              "      <td>98.0</td>\n",
              "      <td>1237.85</td>\n",
              "      <td>1</td>\n",
              "      <td>0</td>\n",
              "      <td>0</td>\n",
              "      <td>0</td>\n",
              "      <td>0</td>\n",
              "      <td>1</td>\n",
              "      <td>0</td>\n",
              "    </tr>\n",
              "    <tr>\n",
              "      <th>4</th>\n",
              "      <td>1</td>\n",
              "      <td>1</td>\n",
              "      <td>1</td>\n",
              "      <td>1</td>\n",
              "      <td>0</td>\n",
              "      <td>3</td>\n",
              "      <td>1</td>\n",
              "      <td>0</td>\n",
              "      <td>0</td>\n",
              "      <td>0</td>\n",
              "      <td>...</td>\n",
              "      <td>2.75</td>\n",
              "      <td>83.9</td>\n",
              "      <td>267.40</td>\n",
              "      <td>1</td>\n",
              "      <td>0</td>\n",
              "      <td>0</td>\n",
              "      <td>0</td>\n",
              "      <td>0</td>\n",
              "      <td>0</td>\n",
              "      <td>1</td>\n",
              "    </tr>\n",
              "  </tbody>\n",
              "</table>\n",
              "<p>5 rows × 28 columns</p>\n",
              "</div>\n",
              "      <button class=\"colab-df-convert\" onclick=\"convertToInteractive('df-f28b7e23-6114-4880-b52c-df457eff09dc')\"\n",
              "              title=\"Convert this dataframe to an interactive table.\"\n",
              "              style=\"display:none;\">\n",
              "        \n",
              "  <svg xmlns=\"http://www.w3.org/2000/svg\" height=\"24px\"viewBox=\"0 0 24 24\"\n",
              "       width=\"24px\">\n",
              "    <path d=\"M0 0h24v24H0V0z\" fill=\"none\"/>\n",
              "    <path d=\"M18.56 5.44l.94 2.06.94-2.06 2.06-.94-2.06-.94-.94-2.06-.94 2.06-2.06.94zm-11 1L8.5 8.5l.94-2.06 2.06-.94-2.06-.94L8.5 2.5l-.94 2.06-2.06.94zm10 10l.94 2.06.94-2.06 2.06-.94-2.06-.94-.94-2.06-.94 2.06-2.06.94z\"/><path d=\"M17.41 7.96l-1.37-1.37c-.4-.4-.92-.59-1.43-.59-.52 0-1.04.2-1.43.59L10.3 9.45l-7.72 7.72c-.78.78-.78 2.05 0 2.83L4 21.41c.39.39.9.59 1.41.59.51 0 1.02-.2 1.41-.59l7.78-7.78 2.81-2.81c.8-.78.8-2.07 0-2.86zM5.41 20L4 18.59l7.72-7.72 1.47 1.35L5.41 20z\"/>\n",
              "  </svg>\n",
              "      </button>\n",
              "      \n",
              "  <style>\n",
              "    .colab-df-container {\n",
              "      display:flex;\n",
              "      flex-wrap:wrap;\n",
              "      gap: 12px;\n",
              "    }\n",
              "\n",
              "    .colab-df-convert {\n",
              "      background-color: #E8F0FE;\n",
              "      border: none;\n",
              "      border-radius: 50%;\n",
              "      cursor: pointer;\n",
              "      display: none;\n",
              "      fill: #1967D2;\n",
              "      height: 32px;\n",
              "      padding: 0 0 0 0;\n",
              "      width: 32px;\n",
              "    }\n",
              "\n",
              "    .colab-df-convert:hover {\n",
              "      background-color: #E2EBFA;\n",
              "      box-shadow: 0px 1px 2px rgba(60, 64, 67, 0.3), 0px 1px 3px 1px rgba(60, 64, 67, 0.15);\n",
              "      fill: #174EA6;\n",
              "    }\n",
              "\n",
              "    [theme=dark] .colab-df-convert {\n",
              "      background-color: #3B4455;\n",
              "      fill: #D2E3FC;\n",
              "    }\n",
              "\n",
              "    [theme=dark] .colab-df-convert:hover {\n",
              "      background-color: #434B5C;\n",
              "      box-shadow: 0px 1px 3px 1px rgba(0, 0, 0, 0.15);\n",
              "      filter: drop-shadow(0px 1px 2px rgba(0, 0, 0, 0.3));\n",
              "      fill: #FFFFFF;\n",
              "    }\n",
              "  </style>\n",
              "\n",
              "      <script>\n",
              "        const buttonEl =\n",
              "          document.querySelector('#df-f28b7e23-6114-4880-b52c-df457eff09dc button.colab-df-convert');\n",
              "        buttonEl.style.display =\n",
              "          google.colab.kernel.accessAllowed ? 'block' : 'none';\n",
              "\n",
              "        async function convertToInteractive(key) {\n",
              "          const element = document.querySelector('#df-f28b7e23-6114-4880-b52c-df457eff09dc');\n",
              "          const dataTable =\n",
              "            await google.colab.kernel.invokeFunction('convertToInteractive',\n",
              "                                                     [key], {});\n",
              "          if (!dataTable) return;\n",
              "\n",
              "          const docLinkHtml = 'Like what you see? Visit the ' +\n",
              "            '<a target=\"_blank\" href=https://colab.research.google.com/notebooks/data_table.ipynb>data table notebook</a>'\n",
              "            + ' to learn more about interactive tables.';\n",
              "          element.innerHTML = '';\n",
              "          dataTable['output_type'] = 'display_data';\n",
              "          await google.colab.output.renderOutput(dataTable, element);\n",
              "          const docLink = document.createElement('div');\n",
              "          docLink.innerHTML = docLinkHtml;\n",
              "          element.appendChild(docLink);\n",
              "        }\n",
              "      </script>\n",
              "    </div>\n",
              "  </div>\n",
              "  "
            ]
          },
          "metadata": {},
          "execution_count": 5
        }
      ]
    },
    {
      "cell_type": "markdown",
      "source": [
        "<font color=82D712><b>Verificando a % de churn</b>"
      ],
      "metadata": {
        "id": "OoDIMs09Rkyt"
      }
    },
    {
      "cell_type": "code",
      "source": [
        "frequenciaC = df_aluravoz['Churn'].value_counts()\n",
        "percentualC = round(df_aluravoz['Churn'].value_counts(normalize = True) * 100)\n",
        "freq_C = pd.DataFrame({'Frequência': frequenciaC, 'Porcentagem (%)': percentualC})\n",
        "freq_C.rename(index = {0: 'Não evadiu', 1: 'evadiu'}, inplace = True)\n",
        "freq_C "
      ],
      "metadata": {
        "colab": {
          "base_uri": "https://localhost:8080/",
          "height": 112
        },
        "id": "IX2c9RYTRlLP",
        "outputId": "2dd61eea-3f7c-48ac-92b4-d21080bb1b50"
      },
      "execution_count": null,
      "outputs": [
        {
          "output_type": "execute_result",
          "data": {
            "text/plain": [
              "            Frequência  Porcentagem (%)\n",
              "Não evadiu        5174        73.463013\n",
              "evadiu            1869        26.536987"
            ],
            "text/html": [
              "\n",
              "  <div id=\"df-6f61a895-7f10-4771-b38d-1c5846236752\">\n",
              "    <div class=\"colab-df-container\">\n",
              "      <div>\n",
              "<style scoped>\n",
              "    .dataframe tbody tr th:only-of-type {\n",
              "        vertical-align: middle;\n",
              "    }\n",
              "\n",
              "    .dataframe tbody tr th {\n",
              "        vertical-align: top;\n",
              "    }\n",
              "\n",
              "    .dataframe thead th {\n",
              "        text-align: right;\n",
              "    }\n",
              "</style>\n",
              "<table border=\"1\" class=\"dataframe\">\n",
              "  <thead>\n",
              "    <tr style=\"text-align: right;\">\n",
              "      <th></th>\n",
              "      <th>Frequência</th>\n",
              "      <th>Porcentagem (%)</th>\n",
              "    </tr>\n",
              "  </thead>\n",
              "  <tbody>\n",
              "    <tr>\n",
              "      <th>Não evadiu</th>\n",
              "      <td>5174</td>\n",
              "      <td>73.463013</td>\n",
              "    </tr>\n",
              "    <tr>\n",
              "      <th>evadiu</th>\n",
              "      <td>1869</td>\n",
              "      <td>26.536987</td>\n",
              "    </tr>\n",
              "  </tbody>\n",
              "</table>\n",
              "</div>\n",
              "      <button class=\"colab-df-convert\" onclick=\"convertToInteractive('df-6f61a895-7f10-4771-b38d-1c5846236752')\"\n",
              "              title=\"Convert this dataframe to an interactive table.\"\n",
              "              style=\"display:none;\">\n",
              "        \n",
              "  <svg xmlns=\"http://www.w3.org/2000/svg\" height=\"24px\"viewBox=\"0 0 24 24\"\n",
              "       width=\"24px\">\n",
              "    <path d=\"M0 0h24v24H0V0z\" fill=\"none\"/>\n",
              "    <path d=\"M18.56 5.44l.94 2.06.94-2.06 2.06-.94-2.06-.94-.94-2.06-.94 2.06-2.06.94zm-11 1L8.5 8.5l.94-2.06 2.06-.94-2.06-.94L8.5 2.5l-.94 2.06-2.06.94zm10 10l.94 2.06.94-2.06 2.06-.94-2.06-.94-.94-2.06-.94 2.06-2.06.94z\"/><path d=\"M17.41 7.96l-1.37-1.37c-.4-.4-.92-.59-1.43-.59-.52 0-1.04.2-1.43.59L10.3 9.45l-7.72 7.72c-.78.78-.78 2.05 0 2.83L4 21.41c.39.39.9.59 1.41.59.51 0 1.02-.2 1.41-.59l7.78-7.78 2.81-2.81c.8-.78.8-2.07 0-2.86zM5.41 20L4 18.59l7.72-7.72 1.47 1.35L5.41 20z\"/>\n",
              "  </svg>\n",
              "      </button>\n",
              "      \n",
              "  <style>\n",
              "    .colab-df-container {\n",
              "      display:flex;\n",
              "      flex-wrap:wrap;\n",
              "      gap: 12px;\n",
              "    }\n",
              "\n",
              "    .colab-df-convert {\n",
              "      background-color: #E8F0FE;\n",
              "      border: none;\n",
              "      border-radius: 50%;\n",
              "      cursor: pointer;\n",
              "      display: none;\n",
              "      fill: #1967D2;\n",
              "      height: 32px;\n",
              "      padding: 0 0 0 0;\n",
              "      width: 32px;\n",
              "    }\n",
              "\n",
              "    .colab-df-convert:hover {\n",
              "      background-color: #E2EBFA;\n",
              "      box-shadow: 0px 1px 2px rgba(60, 64, 67, 0.3), 0px 1px 3px 1px rgba(60, 64, 67, 0.15);\n",
              "      fill: #174EA6;\n",
              "    }\n",
              "\n",
              "    [theme=dark] .colab-df-convert {\n",
              "      background-color: #3B4455;\n",
              "      fill: #D2E3FC;\n",
              "    }\n",
              "\n",
              "    [theme=dark] .colab-df-convert:hover {\n",
              "      background-color: #434B5C;\n",
              "      box-shadow: 0px 1px 3px 1px rgba(0, 0, 0, 0.15);\n",
              "      filter: drop-shadow(0px 1px 2px rgba(0, 0, 0, 0.3));\n",
              "      fill: #FFFFFF;\n",
              "    }\n",
              "  </style>\n",
              "\n",
              "      <script>\n",
              "        const buttonEl =\n",
              "          document.querySelector('#df-6f61a895-7f10-4771-b38d-1c5846236752 button.colab-df-convert');\n",
              "        buttonEl.style.display =\n",
              "          google.colab.kernel.accessAllowed ? 'block' : 'none';\n",
              "\n",
              "        async function convertToInteractive(key) {\n",
              "          const element = document.querySelector('#df-6f61a895-7f10-4771-b38d-1c5846236752');\n",
              "          const dataTable =\n",
              "            await google.colab.kernel.invokeFunction('convertToInteractive',\n",
              "                                                     [key], {});\n",
              "          if (!dataTable) return;\n",
              "\n",
              "          const docLinkHtml = 'Like what you see? Visit the ' +\n",
              "            '<a target=\"_blank\" href=https://colab.research.google.com/notebooks/data_table.ipynb>data table notebook</a>'\n",
              "            + ' to learn more about interactive tables.';\n",
              "          element.innerHTML = '';\n",
              "          dataTable['output_type'] = 'display_data';\n",
              "          await google.colab.output.renderOutput(dataTable, element);\n",
              "          const docLink = document.createElement('div');\n",
              "          docLink.innerHTML = docLinkHtml;\n",
              "          element.appendChild(docLink);\n",
              "        }\n",
              "      </script>\n",
              "    </div>\n",
              "  </div>\n",
              "  "
            ]
          },
          "metadata": {},
          "execution_count": 6
        }
      ]
    },
    {
      "cell_type": "markdown",
      "source": [
        "\n",
        "---\n",
        "\n",
        "> <font size=\"2.5\">27% dos clientes evadiram a empresa.</font>"
      ],
      "metadata": {
        "id": "8KE4NJIaR3P-"
      }
    },
    {
      "cell_type": "markdown",
      "source": [
        "<font color=82D712> **Criando uma matrix de Correlação**"
      ],
      "metadata": {
        "id": "VlYJoYE1dSQS"
      }
    },
    {
      "cell_type": "markdown",
      "source": [
        "> Uma <b>matriz de correlação</b> é uma tabela que representa os coeficientes de conexão entre os fatores. Cada célula da tabela mostra o link entre dois fatores. As grades vinculadas são usadas para delinear informações como uma contribuição para uma investigação mais aprofundada e como uma indicação de inspeção de fronteira. Será usada com ferramenta para criação inicial das hipótesis."
      ],
      "metadata": {
        "id": "2hN3btZjBJjm"
      }
    },
    {
      "cell_type": "code",
      "source": [
        "palleta = sns.blend_palette(colors=('#2C3E50','#82D712','#B6EA44'), as_cmap=True)\n",
        "sns.set_theme(style=\"whitegrid\")"
      ],
      "metadata": {
        "id": "3jVp1khfxpkU"
      },
      "execution_count": null,
      "outputs": []
    },
    {
      "cell_type": "code",
      "source": [
        "# mostra apenas as partes\n",
        "corrmat = df_aluravoz.corr(method = 'kendall')\n",
        "\n",
        "#Plot\n",
        "fig = px.imshow(corrmat, title='<b>Matrix de Correlação</b>: Clientes da Alura Voz', color_continuous_scale='viridis', aspect=\"auto\")\n",
        "fig.update_xaxes()\n",
        "fig.show()"
      ],
      "metadata": {
        "colab": {
          "base_uri": "https://localhost:8080/",
          "height": 542
        },
        "id": "Wd0LJwzw3z_C",
        "outputId": "ec28a6a6-29ab-4989-a7b1-15e42be9aa69"
      },
      "execution_count": null,
      "outputs": [
        {
          "output_type": "display_data",
          "data": {
            "text/html": [
              "<html>\n",
              "<head><meta charset=\"utf-8\" /></head>\n",
              "<body>\n",
              "    <div>            <script src=\"https://cdnjs.cloudflare.com/ajax/libs/mathjax/2.7.5/MathJax.js?config=TeX-AMS-MML_SVG\"></script><script type=\"text/javascript\">if (window.MathJax) {MathJax.Hub.Config({SVG: {font: \"STIX-Web\"}});}</script>                <script type=\"text/javascript\">window.PlotlyConfig = {MathJaxConfig: 'local'};</script>\n",
              "        <script src=\"https://cdn.plot.ly/plotly-2.8.3.min.js\"></script>                <div id=\"f2de9f8b-5e64-43a5-b5f8-01f1014324fc\" class=\"plotly-graph-div\" style=\"height:525px; width:100%;\"></div>            <script type=\"text/javascript\">                                    window.PLOTLYENV=window.PLOTLYENV || {};                                    if (document.getElementById(\"f2de9f8b-5e64-43a5-b5f8-01f1014324fc\")) {                    Plotly.newPlot(                        \"f2de9f8b-5e64-43a5-b5f8-01f1014324fc\",                        [{\"coloraxis\":\"coloraxis\",\"name\":\"0\",\"x\":[\"Churn\",\"Sexo\",\"Idoso\",\"Parceiros\",\"Dependentes\",\"Tenure\",\"Telefonia\",\"Multiplas_Linhas\",\"Seguran\\u00e7a_On-line\",\"Backup_On-line\",\"Prote\\u00e7\\u00e3o_Dispositivos\",\"Suporte_T\\u00e9cnico\",\"TV_Streaming\",\"Streaming_Filmes\",\"Internet_DSL\",\"Internet_Fiber_Optic\",\"Sem_internet\",\"Pagamento_Eletr\\u00f4nico\",\"Cobran\\u00e7a_Di\\u00e1rio\",\"Cobran\\u00e7a_Mensal\",\"Cobran\\u00e7a_Total\",\"Contrato_Mensal\",\"Contrato_Anual\",\"Contrato_Bianual\",\"Pagamento_Transfer\\u00eancia(Auto)\",\"Pagamento_Cart\\u00e3o_Cr\\u00e9dito(Auto)\",\"Pagamento_Cheque_Eletronico\",\"Pagamento_Cheque_Email\"],\"y\":[\"Churn\",\"Sexo\",\"Idoso\",\"Parceiros\",\"Dependentes\",\"Tenure\",\"Telefonia\",\"Multiplas_Linhas\",\"Seguran\\u00e7a_On-line\",\"Backup_On-line\",\"Prote\\u00e7\\u00e3o_Dispositivos\",\"Suporte_T\\u00e9cnico\",\"TV_Streaming\",\"Streaming_Filmes\",\"Internet_DSL\",\"Internet_Fiber_Optic\",\"Sem_internet\",\"Pagamento_Eletr\\u00f4nico\",\"Cobran\\u00e7a_Di\\u00e1rio\",\"Cobran\\u00e7a_Mensal\",\"Cobran\\u00e7a_Total\",\"Contrato_Mensal\",\"Contrato_Anual\",\"Contrato_Bianual\",\"Pagamento_Transfer\\u00eancia(Auto)\",\"Pagamento_Cart\\u00e3o_Cr\\u00e9dito(Auto)\",\"Pagamento_Cheque_Eletronico\",\"Pagamento_Cheque_Email\"],\"z\":[[1.0,0.00861209507899781,0.15088932817647308,-0.15044754495917656,-0.16422140157972526,-0.3029650182111258,0.011941980029003079,0.040102127699826136,-0.17122629194855268,-0.0822548689381425,-0.0661597912802899,-0.16467355590159383,0.0632277461187574,0.06138154801518704,-0.12421382390260384,0.3080197449448228,-0.22789044975609343,0.19182533166646787,0.1513873733918556,0.150955285158245,-0.1895992111287797,0.4051029106879898,-0.17782001834990793,-0.3022534693496505,-0.1179366719285386,-0.13430175066262848,0.30191874901128474,-0.0916828385884293],[0.00861209507899781,1.0,0.001873711638260736,0.0018080796617890207,-0.010516611922734079,-0.0028774917549865726,0.006487672136208199,0.008413655871516398,0.017020796813959464,0.013773188729006045,0.002104582651388708,0.009211760356587684,0.008392549998357647,0.010487356300500275,-0.006567778691102219,0.011286442720116523,-0.006025751154069724,0.011753691221222193,0.011503093498955078,0.011224241773109784,0.0009614675112330276,0.0033859456136271352,-0.00802564307500739,0.003695050803476591,0.016023595160041756,-0.0012147794729687853,-0.0007521807011951512,-0.013744173305346242],[0.15088932817647308,0.001873711638260736,1.0,0.016478657597413914,-0.21118508849395765,0.015315406354327559,0.008576401079279435,0.14294817476276184,-0.0386527044971951,0.06657213514513456,0.059428494286932955,-0.06062459069356321,0.10537766784282374,0.12017625118896552,-0.10832221369858333,0.2553377729551278,-0.18274172290672464,0.15652955931117277,0.18123350554029044,0.18063594921604798,0.08757545366874145,0.13836046440264252,-0.046262442927019434,-0.11700001812504597,-0.01615894086219962,-0.02413537236031893,0.17171777869093655,-0.1534774904289597],[-0.15044754495917656,0.0018080796617890207,0.016478657597413914,1.0,0.4526762829294638,0.31771350364695616,0.017705663223972032,0.14205707936228607,0.14310622750264376,0.14149801947228124,0.1537864356307792,0.11999886976431605,0.12466580056491688,0.11741185447194502,-0.0008509247739520922,0.00030366541646425284,0.0006151650863897371,-0.01487662228789104,0.08898660109205934,0.08862603533694541,0.28024302978048293,-0.2808652261083147,0.08278330748148327,0.2480906545375637,0.1107063695247777,0.08202919645732606,-0.08385168936271009,-0.0951248588229323],[-0.16422140157972526,-0.010516611922734079,-0.21118508849395765,0.4526762829294638,1.0,0.1355064999308923,-0.0017616785446837105,-0.024525804414100582,0.0809716602324835,0.02367101301051336,0.013962535653790215,0.06326814139965359,-0.01655774295103739,-0.03974096205892347,0.052010348064673514,-0.16581835875542264,0.13981188531167826,-0.11137722919364428,-0.08762666503905416,-0.08743943756427744,0.06768573008389486,-0.2317201661297157,0.06836848043822015,0.20461344694774078,0.052020980947400625,0.06026700017636711,-0.15064248847911277,0.05907101281466722],[-0.3029650182111258,-0.0028774917549865726,0.015315406354327559,0.31771350364695616,0.1355064999308923,1.0,0.007001803125611431,0.2785243664908934,0.2714359981093964,0.29716245717044915,0.29988373411841424,0.2696517146077185,0.23483948602757893,0.2401866360294159,0.009671433444384349,0.018562557595351265,-0.03351366038788574,0.006351456821960697,0.1913482377643085,0.1905648681169637,0.7340158667349683,-0.5293970360110741,0.17518631602986895,0.44940244547327585,0.2034086113472563,0.19526756124590433,-0.172673788784492,-0.19750765080439753],[0.011941980029003079,0.006487672136208199,0.008576401079279435,0.017705663223972032,-0.0017616785446837105,0.007001803125611431,1.0,0.27968999474291284,-0.09289270011220904,-0.052312242947635576,-0.07122688671747489,-0.09633961826825954,-0.022573591794937096,-0.03295889236478101,-0.4524254899613094,0.2899989345730833,0.1722087698280526,0.01650480573256966,0.19654317719520792,0.1958625381059683,0.06933494173992438,-0.000742430279041619,-0.0027906430986324275,0.00351890756850818,0.007556212925145839,-0.0077211600090993995,0.0030618298454301216,-0.003318789543607616],[0.040102127699826136,0.008413655871516398,0.14294817476276184,0.14205707936228607,-0.024525804414100582,0.2785243664908934,0.27968999474291284,1.0,0.09810813969726385,0.20223701632049457,0.20113653254496033,0.10057130998573957,0.25715163510824707,0.25875149199377806,-0.19992020935336424,0.36608324961178823,-0.21056352377912999,0.16353017421292795,0.4277780581357124,0.42625268397304095,0.3838942140844674,-0.08820313233782151,-0.0037935880457818515,0.10625270251960535,0.07552652675123063,0.060048357777435425,0.08361817831666886,-0.22720630042805826],[-0.17122629194855268,0.017020796813959464,-0.0386527044971951,0.14310622750264376,0.0809716602324835,0.2714359981093964,-0.09289270011220904,0.09810813969726385,1.0,0.28383223353272324,0.27543797874378695,0.35493070789276254,0.17620730704239465,0.18739833092624983,0.3212689079449036,-0.03069571096235291,-0.3334027048964515,-0.0036358971484742185,0.22578667921187437,0.22491947119994565,0.3339290680362708,-0.24667886763136157,0.10016245689105224,0.19177339915202254,0.09515804273500761,0.11572065517555404,-0.1123377762540711,-0.08079805377720074],[-0.0822548689381425,0.013773188729006045,0.06657213514513456,0.14149801947228124,0.02367101301051336,0.29716245717044915,-0.052312242947635576,0.20223701632049457,0.28383223353272324,1.0,0.3035462090113273,0.2942328784068946,0.2821064219717708,0.2745012019605008,0.157884393974052,0.16565089083393225,-0.38159329680772663,0.12673537300697288,0.3572153060704023,0.3560001447077686,0.4009206158382566,-0.164172333092541,0.08372237279771902,0.11139959504621792,0.08700369093869702,0.09078478545256992,-0.00040771587258833634,-0.1741639169398087],[-0.0661597912802899,0.002104582651388708,0.059428494286932955,0.1537864356307792,0.013962535653790215,0.29988373411841424,-0.07122688671747489,0.20113653254496033,0.27543797874378695,0.3035462090113273,1.0,0.33331256231543793,0.3908740269195831,0.4021105377661722,0.14629064131472244,0.17604889095154475,-0.38075433795295716,0.10379680498154187,0.3937589763063099,0.3924212264730327,0.41500990512398295,-0.22566200253940147,0.10249519931671587,0.16509639131423762,0.08311454613206692,0.11155436356101213,-0.003350773408871422,-0.18737348746355068],[-0.16467355590159383,0.009211760356587684,-0.06062459069356321,0.11999886976431605,0.06326814139965359,0.2696517146077185,-0.09633961826825954,0.10057130998573957,0.35493070789276254,0.2942328784068946,0.33331256231543793,1.0,0.2780702036372546,0.2793584789284242,0.3131179268609481,-0.020492402500577475,-0.3362982846984597,0.037879900207281304,0.2642987307559592,0.2633200220902754,0.3453095999654693,-0.2852413102955614,0.09577473766009482,0.24082355652920404,0.10125246802180815,0.11727230654467356,-0.11483871499570013,-0.08550850677032862],[0.0632277461187574,0.008392549998357647,0.10537766784282374,0.12466580056491688,-0.01655774295103739,0.23483948602757893,-0.022573591794937096,0.25715163510824707,0.17620730704239465,0.2821064219717708,0.3908740269195831,0.2780702036372546,1.0,0.5330938326943184,0.016273726794572927,0.3293485259115563,-0.415551893880296,0.22384098246010242,0.5270968716765039,0.5252501336365469,0.40508013101813284,-0.11228242714593159,0.06161243382926125,0.07204904102061016,0.04625225164274548,0.04043308035426159,0.14462638547453485,-0.24774242360741983],[0.06138154801518704,0.010487356300500275,0.12017625118896552,0.11741185447194502,-0.03974096205892347,0.2401866360294159,-0.03295889236478101,0.25875149199377806,0.18739833092624983,0.2745012019605008,0.4021105377661722,0.2793584789284242,0.5330938326943184,1.0,0.025697831994172138,0.322922698084827,-0.41867507897021544,0.21171599176513073,0.5249460335375448,0.5231568926544796,0.4085201678740411,-0.11663335681857982,0.06492603542901963,0.073959844136985,0.04865217505038143,0.04857480053298355,0.1379663754069014,-0.2505954638083169],[-0.12421382390260384,-0.006567778691102219,-0.10832221369858333,-0.0008509247739520922,0.052010348064673514,0.009671433444384349,-0.4524254899613094,-0.19992020935336424,0.3212689079449036,0.157884393974052,0.14629064131472244,0.3131179268609481,0.016273726794572927,0.025697831994172138,1.0,-0.6409871702805326,-0.3806345434753899,-0.0631210849300409,-0.17892860476162858,-0.17835650649982815,-0.006461356370219469,-0.06550876072359742,0.04679527357238911,0.031714234510353254,0.025475536146246085,0.05143757263283646,-0.10441759819553902,0.04189928198182483],[0.3080197449448228,0.011286442720116523,0.2553377729551278,0.00030366541646425284,-0.16581835875542264,0.018562557595351265,0.2899989345730833,0.36608324961178823,-0.03069571096235291,0.16565089083393225,0.17604889095154475,-0.020492402500577475,0.3293485259115563,0.322922698084827,-0.6409871702805326,1.0,-0.465792710446002,0.32685324851960446,0.6551914957739523,0.65296671194664,0.2675631931654646,0.24416415597398564,-0.07632409089469187,-0.21152603536967915,-0.02262401224386691,-0.0500766554504469,0.33640977802558686,-0.30683412957624784],[-0.22789044975609343,-0.006025751154069724,-0.18274172290672464,0.0006151650863897371,0.13981188531167826,-0.03351366038788574,0.1722087698280526,-0.21056352377912999,-0.3334027048964515,-0.38159329680772663,-0.38075433795295716,-0.3362982846984597,-0.415551893880296,-0.41867507897021544,-0.3806345434753899,-0.465792710446002,1.0,-0.3210130652332091,-0.583074149745883,-0.5810533498111332,-0.31522974267718556,-0.2186387661615452,0.038003942419166506,0.21827822340960518,-0.002113399873882158,0.0010297293228974916,-0.28491664585002213,0.32136073231783535],[0.19182533166646787,0.011753691221222193,0.15652955931117277,-0.01487662228789104,-0.11137722919364428,0.006351456821960697,0.01650480573256966,0.16353017421292795,-0.0036358971484742185,0.12673537300697288,0.10379680498154187,0.037879900207281304,0.22384098246010242,0.21171599176513073,-0.0631210849300409,0.32685324851960446,-0.3210130652332091,1.0,0.28354769507571287,0.2827156269713804,0.12569734756358325,0.16909644687222086,-0.051391159173447186,-0.14788875031016643,-0.016332203527893534,-0.013588829059284418,0.20886475546718752,-0.2053980051888363],[0.1513873733918556,0.011503093498955078,0.18123350554029044,0.08898660109205934,-0.08762666503905416,0.1913482377643085,0.19654317719520792,0.4277780581357124,0.22578667921187437,0.3572153060704023,0.3937589763063099,0.2642987307559592,0.5270968716765039,0.5249460335375448,-0.17892860476162858,0.6551914957739523,-0.583074149745883,0.28354769507571287,1.0,0.9965448028035484,0.46149788464330294,0.03238560867294751,0.007215353683342669,-0.04455218240029347,0.037620491244803225,0.027221482061101025,0.21623741869663723,-0.30679989698849497],[0.150955285158245,0.011224241773109784,0.18063594921604798,0.08862603533694541,-0.08743943756427744,0.1905648681169637,0.1958625381059683,0.42625268397304095,0.22491947119994565,0.3560001447077686,0.3924212264730327,0.2633200220902754,0.5252501336365469,0.5231568926544796,-0.17835650649982815,0.65296671194664,-0.5810533498111332,0.2827156269713804,0.9965448028035484,1.0,0.45990400299447737,0.0322512276118623,0.007305617028934331,-0.044481674326194265,0.03752712466251706,0.026998765522721638,0.21555510025084695,-0.305722728388441],[-0.1895992111287797,0.0009614675112330276,0.08757545366874145,0.28024302978048293,0.06768573008389486,0.7340158667349683,0.06933494173992438,0.3838942140844674,0.3339290680362708,0.4009206158382566,0.41500990512398295,0.3453095999654693,0.40508013101813284,0.4085201678740411,-0.006461356370219469,0.2675631931654646,-0.31522974267718556,0.12569734756358325,0.46149788464330294,0.45990400299447737,1.0,-0.3807364557929922,0.1682185255019391,0.2833238618865525,0.17091457743885996,0.1619086653493017,-0.04902455901961315,-0.2721996585632296],[0.4051029106879898,0.0033859456136271352,0.13836046440264252,-0.2808652261083147,-0.2317201661297157,-0.5293970360110741,-0.000742430279041619,-0.08820313233782151,-0.24667886763136157,-0.164172333092541,-0.22566200253940147,-0.2852413102955614,-0.11228242714593159,-0.11663335681857982,-0.06550876072359742,0.24416415597398564,-0.2186387661615452,0.16909644687222086,0.03238560867294751,0.0322512276118623,-0.3807364557929922,1.0,-0.5687442811986986,-0.6226334072448414,-0.17970688735759904,-0.2041449607569342,0.33166148481728,0.004138055475923931],[-0.17782001834990793,-0.00802564307500739,-0.046262442927019434,0.08278330748148327,0.06836848043822015,0.17518631602986895,-0.0027906430986324275,-0.0037935880457818515,0.10016245689105224,0.08372237279771902,0.10249519931671587,0.09577473766009482,0.06161243382926125,0.06492603542901963,0.04679527357238911,-0.07632409089469187,0.038003942419166506,-0.051391159173447186,0.007215353683342669,0.007305617028934331,0.1682185255019391,-0.5687442811986986,1.0,-0.2895095723414514,0.05745066212990579,0.06758941420686171,-0.10912981441493722,-0.00011622106193566468],[-0.3022534693496505,0.003695050803476591,-0.11700001812504597,0.2480906545375637,0.20461344694774078,0.44940244547327585,0.00351890756850818,0.10625270251960535,0.19177339915202254,0.11139959504621792,0.16509639131423762,0.24082355652920404,0.07204904102061016,0.073959844136985,0.031714234510353254,-0.21152603536967915,0.21827822340960518,-0.14788875031016643,-0.04455218240029347,-0.044481674326194265,0.2833238618865525,-0.6226334072448414,-0.2895095723414514,1.0,0.15447149916966943,0.17326485242690456,-0.2821379770975395,-0.004704962197150815],[-0.1179366719285386,0.016023595160041756,-0.01615894086219962,0.1107063695247777,0.052020980947400625,0.2034086113472563,0.007556212925145839,0.07552652675123063,0.09515804273500761,0.08700369093869702,0.08311454613206692,0.10125246802180815,0.04625225164274548,0.04865217505038143,0.025475536146246085,-0.02262401224386691,-0.002113399873882158,-0.016332203527893534,0.037620491244803225,0.03752712466251706,0.17091457743885996,-0.17970688735759904,0.05745066212990579,0.15447149916966943,1.0,-0.278214807477789,-0.37676213734931496,-0.28868512421143017],[-0.13430175066262848,-0.0012147794729687853,-0.02413537236031893,0.08202919645732606,0.06026700017636711,0.19526756124590433,-0.0077211600090993995,0.060048357777435425,0.11572065517555404,0.09078478545256992,0.11155436356101213,0.11727230654467356,0.04043308035426159,0.04857480053298355,0.05143757263283646,-0.0500766554504469,0.0010297293228974916,-0.013588829059284418,0.027221482061101025,0.026998765522721638,0.1619086653493017,-0.2041449607569342,0.06758941420686171,0.17326485242690456,-0.278214807477789,1.0,-0.3733222859365752,-0.28604941899077807],[0.30191874901128474,-0.0007521807011951512,0.17171777869093655,-0.08385168936271009,-0.15064248847911277,-0.172673788784492,0.0030618298454301216,0.08361817831666886,-0.1123377762540711,-0.00040771587258833634,-0.003350773408871422,-0.11483871499570013,0.14462638547453485,0.1379663754069014,-0.10441759819553902,0.33640977802558686,-0.28491664585002213,0.20886475546718752,0.21623741869663723,0.21555510025084695,-0.04902455901961315,0.33166148481728,-0.10912981441493722,-0.2821379770975395,-0.37676213734931496,-0.3733222859365752,1.0,-0.38737187090625713],[-0.0916828385884293,-0.013744173305346242,-0.1534774904289597,-0.0951248588229323,0.05907101281466722,-0.19750765080439753,-0.003318789543607616,-0.22720630042805826,-0.08079805377720074,-0.1741639169398087,-0.18737348746355068,-0.08550850677032862,-0.24774242360741983,-0.2505954638083169,0.04189928198182483,-0.30683412957624784,0.32136073231783535,-0.2053980051888363,-0.30679989698849497,-0.305722728388441,-0.2721996585632296,0.004138055475923931,-0.00011622106193566468,-0.004704962197150815,-0.28868512421143017,-0.28604941899077807,-0.38737187090625713,1.0]],\"type\":\"heatmap\",\"xaxis\":\"x\",\"yaxis\":\"y\",\"hovertemplate\":\"x: %{x}<br>y: %{y}<br>color: %{z}<extra></extra>\"}],                        {\"template\":{\"data\":{\"bar\":[{\"error_x\":{\"color\":\"#2a3f5f\"},\"error_y\":{\"color\":\"#2a3f5f\"},\"marker\":{\"line\":{\"color\":\"#E5ECF6\",\"width\":0.5},\"pattern\":{\"fillmode\":\"overlay\",\"size\":10,\"solidity\":0.2}},\"type\":\"bar\"}],\"barpolar\":[{\"marker\":{\"line\":{\"color\":\"#E5ECF6\",\"width\":0.5},\"pattern\":{\"fillmode\":\"overlay\",\"size\":10,\"solidity\":0.2}},\"type\":\"barpolar\"}],\"carpet\":[{\"aaxis\":{\"endlinecolor\":\"#2a3f5f\",\"gridcolor\":\"white\",\"linecolor\":\"white\",\"minorgridcolor\":\"white\",\"startlinecolor\":\"#2a3f5f\"},\"baxis\":{\"endlinecolor\":\"#2a3f5f\",\"gridcolor\":\"white\",\"linecolor\":\"white\",\"minorgridcolor\":\"white\",\"startlinecolor\":\"#2a3f5f\"},\"type\":\"carpet\"}],\"choropleth\":[{\"colorbar\":{\"outlinewidth\":0,\"ticks\":\"\"},\"type\":\"choropleth\"}],\"contour\":[{\"colorbar\":{\"outlinewidth\":0,\"ticks\":\"\"},\"colorscale\":[[0.0,\"#0d0887\"],[0.1111111111111111,\"#46039f\"],[0.2222222222222222,\"#7201a8\"],[0.3333333333333333,\"#9c179e\"],[0.4444444444444444,\"#bd3786\"],[0.5555555555555556,\"#d8576b\"],[0.6666666666666666,\"#ed7953\"],[0.7777777777777778,\"#fb9f3a\"],[0.8888888888888888,\"#fdca26\"],[1.0,\"#f0f921\"]],\"type\":\"contour\"}],\"contourcarpet\":[{\"colorbar\":{\"outlinewidth\":0,\"ticks\":\"\"},\"type\":\"contourcarpet\"}],\"heatmap\":[{\"colorbar\":{\"outlinewidth\":0,\"ticks\":\"\"},\"colorscale\":[[0.0,\"#0d0887\"],[0.1111111111111111,\"#46039f\"],[0.2222222222222222,\"#7201a8\"],[0.3333333333333333,\"#9c179e\"],[0.4444444444444444,\"#bd3786\"],[0.5555555555555556,\"#d8576b\"],[0.6666666666666666,\"#ed7953\"],[0.7777777777777778,\"#fb9f3a\"],[0.8888888888888888,\"#fdca26\"],[1.0,\"#f0f921\"]],\"type\":\"heatmap\"}],\"heatmapgl\":[{\"colorbar\":{\"outlinewidth\":0,\"ticks\":\"\"},\"colorscale\":[[0.0,\"#0d0887\"],[0.1111111111111111,\"#46039f\"],[0.2222222222222222,\"#7201a8\"],[0.3333333333333333,\"#9c179e\"],[0.4444444444444444,\"#bd3786\"],[0.5555555555555556,\"#d8576b\"],[0.6666666666666666,\"#ed7953\"],[0.7777777777777778,\"#fb9f3a\"],[0.8888888888888888,\"#fdca26\"],[1.0,\"#f0f921\"]],\"type\":\"heatmapgl\"}],\"histogram\":[{\"marker\":{\"pattern\":{\"fillmode\":\"overlay\",\"size\":10,\"solidity\":0.2}},\"type\":\"histogram\"}],\"histogram2d\":[{\"colorbar\":{\"outlinewidth\":0,\"ticks\":\"\"},\"colorscale\":[[0.0,\"#0d0887\"],[0.1111111111111111,\"#46039f\"],[0.2222222222222222,\"#7201a8\"],[0.3333333333333333,\"#9c179e\"],[0.4444444444444444,\"#bd3786\"],[0.5555555555555556,\"#d8576b\"],[0.6666666666666666,\"#ed7953\"],[0.7777777777777778,\"#fb9f3a\"],[0.8888888888888888,\"#fdca26\"],[1.0,\"#f0f921\"]],\"type\":\"histogram2d\"}],\"histogram2dcontour\":[{\"colorbar\":{\"outlinewidth\":0,\"ticks\":\"\"},\"colorscale\":[[0.0,\"#0d0887\"],[0.1111111111111111,\"#46039f\"],[0.2222222222222222,\"#7201a8\"],[0.3333333333333333,\"#9c179e\"],[0.4444444444444444,\"#bd3786\"],[0.5555555555555556,\"#d8576b\"],[0.6666666666666666,\"#ed7953\"],[0.7777777777777778,\"#fb9f3a\"],[0.8888888888888888,\"#fdca26\"],[1.0,\"#f0f921\"]],\"type\":\"histogram2dcontour\"}],\"mesh3d\":[{\"colorbar\":{\"outlinewidth\":0,\"ticks\":\"\"},\"type\":\"mesh3d\"}],\"parcoords\":[{\"line\":{\"colorbar\":{\"outlinewidth\":0,\"ticks\":\"\"}},\"type\":\"parcoords\"}],\"pie\":[{\"automargin\":true,\"type\":\"pie\"}],\"scatter\":[{\"marker\":{\"colorbar\":{\"outlinewidth\":0,\"ticks\":\"\"}},\"type\":\"scatter\"}],\"scatter3d\":[{\"line\":{\"colorbar\":{\"outlinewidth\":0,\"ticks\":\"\"}},\"marker\":{\"colorbar\":{\"outlinewidth\":0,\"ticks\":\"\"}},\"type\":\"scatter3d\"}],\"scattercarpet\":[{\"marker\":{\"colorbar\":{\"outlinewidth\":0,\"ticks\":\"\"}},\"type\":\"scattercarpet\"}],\"scattergeo\":[{\"marker\":{\"colorbar\":{\"outlinewidth\":0,\"ticks\":\"\"}},\"type\":\"scattergeo\"}],\"scattergl\":[{\"marker\":{\"colorbar\":{\"outlinewidth\":0,\"ticks\":\"\"}},\"type\":\"scattergl\"}],\"scattermapbox\":[{\"marker\":{\"colorbar\":{\"outlinewidth\":0,\"ticks\":\"\"}},\"type\":\"scattermapbox\"}],\"scatterpolar\":[{\"marker\":{\"colorbar\":{\"outlinewidth\":0,\"ticks\":\"\"}},\"type\":\"scatterpolar\"}],\"scatterpolargl\":[{\"marker\":{\"colorbar\":{\"outlinewidth\":0,\"ticks\":\"\"}},\"type\":\"scatterpolargl\"}],\"scatterternary\":[{\"marker\":{\"colorbar\":{\"outlinewidth\":0,\"ticks\":\"\"}},\"type\":\"scatterternary\"}],\"surface\":[{\"colorbar\":{\"outlinewidth\":0,\"ticks\":\"\"},\"colorscale\":[[0.0,\"#0d0887\"],[0.1111111111111111,\"#46039f\"],[0.2222222222222222,\"#7201a8\"],[0.3333333333333333,\"#9c179e\"],[0.4444444444444444,\"#bd3786\"],[0.5555555555555556,\"#d8576b\"],[0.6666666666666666,\"#ed7953\"],[0.7777777777777778,\"#fb9f3a\"],[0.8888888888888888,\"#fdca26\"],[1.0,\"#f0f921\"]],\"type\":\"surface\"}],\"table\":[{\"cells\":{\"fill\":{\"color\":\"#EBF0F8\"},\"line\":{\"color\":\"white\"}},\"header\":{\"fill\":{\"color\":\"#C8D4E3\"},\"line\":{\"color\":\"white\"}},\"type\":\"table\"}]},\"layout\":{\"annotationdefaults\":{\"arrowcolor\":\"#2a3f5f\",\"arrowhead\":0,\"arrowwidth\":1},\"autotypenumbers\":\"strict\",\"coloraxis\":{\"colorbar\":{\"outlinewidth\":0,\"ticks\":\"\"}},\"colorscale\":{\"diverging\":[[0,\"#8e0152\"],[0.1,\"#c51b7d\"],[0.2,\"#de77ae\"],[0.3,\"#f1b6da\"],[0.4,\"#fde0ef\"],[0.5,\"#f7f7f7\"],[0.6,\"#e6f5d0\"],[0.7,\"#b8e186\"],[0.8,\"#7fbc41\"],[0.9,\"#4d9221\"],[1,\"#276419\"]],\"sequential\":[[0.0,\"#0d0887\"],[0.1111111111111111,\"#46039f\"],[0.2222222222222222,\"#7201a8\"],[0.3333333333333333,\"#9c179e\"],[0.4444444444444444,\"#bd3786\"],[0.5555555555555556,\"#d8576b\"],[0.6666666666666666,\"#ed7953\"],[0.7777777777777778,\"#fb9f3a\"],[0.8888888888888888,\"#fdca26\"],[1.0,\"#f0f921\"]],\"sequentialminus\":[[0.0,\"#0d0887\"],[0.1111111111111111,\"#46039f\"],[0.2222222222222222,\"#7201a8\"],[0.3333333333333333,\"#9c179e\"],[0.4444444444444444,\"#bd3786\"],[0.5555555555555556,\"#d8576b\"],[0.6666666666666666,\"#ed7953\"],[0.7777777777777778,\"#fb9f3a\"],[0.8888888888888888,\"#fdca26\"],[1.0,\"#f0f921\"]]},\"colorway\":[\"#636efa\",\"#EF553B\",\"#00cc96\",\"#ab63fa\",\"#FFA15A\",\"#19d3f3\",\"#FF6692\",\"#B6E880\",\"#FF97FF\",\"#FECB52\"],\"font\":{\"color\":\"#2a3f5f\"},\"geo\":{\"bgcolor\":\"white\",\"lakecolor\":\"white\",\"landcolor\":\"#E5ECF6\",\"showlakes\":true,\"showland\":true,\"subunitcolor\":\"white\"},\"hoverlabel\":{\"align\":\"left\"},\"hovermode\":\"closest\",\"mapbox\":{\"style\":\"light\"},\"paper_bgcolor\":\"white\",\"plot_bgcolor\":\"#E5ECF6\",\"polar\":{\"angularaxis\":{\"gridcolor\":\"white\",\"linecolor\":\"white\",\"ticks\":\"\"},\"bgcolor\":\"#E5ECF6\",\"radialaxis\":{\"gridcolor\":\"white\",\"linecolor\":\"white\",\"ticks\":\"\"}},\"scene\":{\"xaxis\":{\"backgroundcolor\":\"#E5ECF6\",\"gridcolor\":\"white\",\"gridwidth\":2,\"linecolor\":\"white\",\"showbackground\":true,\"ticks\":\"\",\"zerolinecolor\":\"white\"},\"yaxis\":{\"backgroundcolor\":\"#E5ECF6\",\"gridcolor\":\"white\",\"gridwidth\":2,\"linecolor\":\"white\",\"showbackground\":true,\"ticks\":\"\",\"zerolinecolor\":\"white\"},\"zaxis\":{\"backgroundcolor\":\"#E5ECF6\",\"gridcolor\":\"white\",\"gridwidth\":2,\"linecolor\":\"white\",\"showbackground\":true,\"ticks\":\"\",\"zerolinecolor\":\"white\"}},\"shapedefaults\":{\"line\":{\"color\":\"#2a3f5f\"}},\"ternary\":{\"aaxis\":{\"gridcolor\":\"white\",\"linecolor\":\"white\",\"ticks\":\"\"},\"baxis\":{\"gridcolor\":\"white\",\"linecolor\":\"white\",\"ticks\":\"\"},\"bgcolor\":\"#E5ECF6\",\"caxis\":{\"gridcolor\":\"white\",\"linecolor\":\"white\",\"ticks\":\"\"}},\"title\":{\"x\":0.05},\"xaxis\":{\"automargin\":true,\"gridcolor\":\"white\",\"linecolor\":\"white\",\"ticks\":\"\",\"title\":{\"standoff\":15},\"zerolinecolor\":\"white\",\"zerolinewidth\":2},\"yaxis\":{\"automargin\":true,\"gridcolor\":\"white\",\"linecolor\":\"white\",\"ticks\":\"\",\"title\":{\"standoff\":15},\"zerolinecolor\":\"white\",\"zerolinewidth\":2}}},\"xaxis\":{\"anchor\":\"y\",\"domain\":[0.0,1.0]},\"yaxis\":{\"anchor\":\"x\",\"domain\":[0.0,1.0],\"autorange\":\"reversed\"},\"coloraxis\":{\"colorscale\":[[0.0,\"#440154\"],[0.1111111111111111,\"#482878\"],[0.2222222222222222,\"#3e4989\"],[0.3333333333333333,\"#31688e\"],[0.4444444444444444,\"#26828e\"],[0.5555555555555556,\"#1f9e89\"],[0.6666666666666666,\"#35b779\"],[0.7777777777777778,\"#6ece58\"],[0.8888888888888888,\"#b5de2b\"],[1.0,\"#fde725\"]]},\"title\":{\"text\":\"<b>Matrix de Correla\\u00e7\\u00e3o</b>: Clientes da Alura Voz\"}},                        {\"responsive\": true}                    ).then(function(){\n",
              "                            \n",
              "var gd = document.getElementById('f2de9f8b-5e64-43a5-b5f8-01f1014324fc');\n",
              "var x = new MutationObserver(function (mutations, observer) {{\n",
              "        var display = window.getComputedStyle(gd).display;\n",
              "        if (!display || display === 'none') {{\n",
              "            console.log([gd, 'removed!']);\n",
              "            Plotly.purge(gd);\n",
              "            observer.disconnect();\n",
              "        }}\n",
              "}});\n",
              "\n",
              "// Listen for the removal of the full notebook cells\n",
              "var notebookContainer = gd.closest('#notebook-container');\n",
              "if (notebookContainer) {{\n",
              "    x.observe(notebookContainer, {childList: true});\n",
              "}}\n",
              "\n",
              "// Listen for the clearing of the current output cell\n",
              "var outputEl = gd.closest('.output');\n",
              "if (outputEl) {{\n",
              "    x.observe(outputEl, {childList: true});\n",
              "}}\n",
              "\n",
              "                        })                };                            </script>        </div>\n",
              "</body>\n",
              "</html>"
            ]
          },
          "metadata": {}
        }
      ]
    },
    {
      "cell_type": "markdown",
      "source": [
        "\n",
        "---\n",
        "\n",
        "<font color=82D712 size=\"5\"><b>Conclusões</b></font>\n",
        "\n",
        "A <font color=82D712><b>Primeira hipótese</b></font> é há da possibilidade de clientes que pagaram um valor acima da media geral na Cobrança Mensal, possuem maior taxa de evasão que os outros, e caso a hipotese seja confirmada, analizar a razão deste valor elevado.<br>\n",
        "A <font color=82D712><b>Segunda Hipótese</b></font> tem como foco os produtos. A empresa oferta três tipos de serviços, sendo elas, linhas telefônicas, serviços de Internet e Serviço de Streaming, será analisado para cada serviço (e os produtos que englobam) a quantidade de churn e verificar se, existe alguma relação entre o tipo de serviço e as características dos clientes.<br>\n",
        "A <font color=82D712><b>Terceira Hipótese</b></font> buscar identificar se existe alto churn entre os clientes que possuem tempo de contrato (tenure) maior em relação aos que possuem menor tenure.\n",
        "\n",
        "Alem disso, vamos analisar as informações referentes ao <font color=82D712><b>perfil dos clientes</b></font>. Isso porque, pode auxiliar o relatório futuramente na formação de novas hipótesis e na retirada de algumas conclusões. <br>\n",
        "\n",
        "\n"
      ],
      "metadata": {
        "id": "kX_ahRDWr1xw"
      }
    },
    {
      "cell_type": "markdown",
      "source": [
        "# <font color=2C3E50>**03. Perfil dos Clientes da Alura Voz**"
      ],
      "metadata": {
        "id": "zc7EMtWuwUL9"
      }
    },
    {
      "cell_type": "markdown",
      "source": [
        "> <font color=82D712><b>Seaborn</b></font> é uma biblioteca de visualização de dados Python baseada em matplotlib. Ele fornece uma interface avançada para desenhar gráficos estatísticos atraentes e informativos. <sup><a href=https://seaborn.pydata.org/examples/part_whole_bars.html>[2]</a>"
      ],
      "metadata": {
        "id": "Z6jlHJyrwqvV"
      }
    },
    {
      "cell_type": "code",
      "source": [
        "# Criando um DataFrame\n",
        "perfil_clientes = pd.DataFrame(data= df_aluravoz, columns=['Sexo', 'Idoso', 'Parceiros', 'Dependentes']) \n",
        "perfil_clientes.head()"
      ],
      "metadata": {
        "colab": {
          "base_uri": "https://localhost:8080/",
          "height": 206
        },
        "id": "Msi2q5Bpwio1",
        "outputId": "45b84929-59c1-47b0-eeb7-ddb2efa76abc"
      },
      "execution_count": null,
      "outputs": [
        {
          "output_type": "execute_result",
          "data": {
            "text/plain": [
              "   Sexo  Idoso  Parceiros  Dependentes\n",
              "0     1      0          1            1\n",
              "1     0      0          0            0\n",
              "2     0      0          0            0\n",
              "3     0      1          1            0\n",
              "4     1      1          1            0"
            ],
            "text/html": [
              "\n",
              "  <div id=\"df-c941c22a-4106-4796-8e63-03057ad23691\">\n",
              "    <div class=\"colab-df-container\">\n",
              "      <div>\n",
              "<style scoped>\n",
              "    .dataframe tbody tr th:only-of-type {\n",
              "        vertical-align: middle;\n",
              "    }\n",
              "\n",
              "    .dataframe tbody tr th {\n",
              "        vertical-align: top;\n",
              "    }\n",
              "\n",
              "    .dataframe thead th {\n",
              "        text-align: right;\n",
              "    }\n",
              "</style>\n",
              "<table border=\"1\" class=\"dataframe\">\n",
              "  <thead>\n",
              "    <tr style=\"text-align: right;\">\n",
              "      <th></th>\n",
              "      <th>Sexo</th>\n",
              "      <th>Idoso</th>\n",
              "      <th>Parceiros</th>\n",
              "      <th>Dependentes</th>\n",
              "    </tr>\n",
              "  </thead>\n",
              "  <tbody>\n",
              "    <tr>\n",
              "      <th>0</th>\n",
              "      <td>1</td>\n",
              "      <td>0</td>\n",
              "      <td>1</td>\n",
              "      <td>1</td>\n",
              "    </tr>\n",
              "    <tr>\n",
              "      <th>1</th>\n",
              "      <td>0</td>\n",
              "      <td>0</td>\n",
              "      <td>0</td>\n",
              "      <td>0</td>\n",
              "    </tr>\n",
              "    <tr>\n",
              "      <th>2</th>\n",
              "      <td>0</td>\n",
              "      <td>0</td>\n",
              "      <td>0</td>\n",
              "      <td>0</td>\n",
              "    </tr>\n",
              "    <tr>\n",
              "      <th>3</th>\n",
              "      <td>0</td>\n",
              "      <td>1</td>\n",
              "      <td>1</td>\n",
              "      <td>0</td>\n",
              "    </tr>\n",
              "    <tr>\n",
              "      <th>4</th>\n",
              "      <td>1</td>\n",
              "      <td>1</td>\n",
              "      <td>1</td>\n",
              "      <td>0</td>\n",
              "    </tr>\n",
              "  </tbody>\n",
              "</table>\n",
              "</div>\n",
              "      <button class=\"colab-df-convert\" onclick=\"convertToInteractive('df-c941c22a-4106-4796-8e63-03057ad23691')\"\n",
              "              title=\"Convert this dataframe to an interactive table.\"\n",
              "              style=\"display:none;\">\n",
              "        \n",
              "  <svg xmlns=\"http://www.w3.org/2000/svg\" height=\"24px\"viewBox=\"0 0 24 24\"\n",
              "       width=\"24px\">\n",
              "    <path d=\"M0 0h24v24H0V0z\" fill=\"none\"/>\n",
              "    <path d=\"M18.56 5.44l.94 2.06.94-2.06 2.06-.94-2.06-.94-.94-2.06-.94 2.06-2.06.94zm-11 1L8.5 8.5l.94-2.06 2.06-.94-2.06-.94L8.5 2.5l-.94 2.06-2.06.94zm10 10l.94 2.06.94-2.06 2.06-.94-2.06-.94-.94-2.06-.94 2.06-2.06.94z\"/><path d=\"M17.41 7.96l-1.37-1.37c-.4-.4-.92-.59-1.43-.59-.52 0-1.04.2-1.43.59L10.3 9.45l-7.72 7.72c-.78.78-.78 2.05 0 2.83L4 21.41c.39.39.9.59 1.41.59.51 0 1.02-.2 1.41-.59l7.78-7.78 2.81-2.81c.8-.78.8-2.07 0-2.86zM5.41 20L4 18.59l7.72-7.72 1.47 1.35L5.41 20z\"/>\n",
              "  </svg>\n",
              "      </button>\n",
              "      \n",
              "  <style>\n",
              "    .colab-df-container {\n",
              "      display:flex;\n",
              "      flex-wrap:wrap;\n",
              "      gap: 12px;\n",
              "    }\n",
              "\n",
              "    .colab-df-convert {\n",
              "      background-color: #E8F0FE;\n",
              "      border: none;\n",
              "      border-radius: 50%;\n",
              "      cursor: pointer;\n",
              "      display: none;\n",
              "      fill: #1967D2;\n",
              "      height: 32px;\n",
              "      padding: 0 0 0 0;\n",
              "      width: 32px;\n",
              "    }\n",
              "\n",
              "    .colab-df-convert:hover {\n",
              "      background-color: #E2EBFA;\n",
              "      box-shadow: 0px 1px 2px rgba(60, 64, 67, 0.3), 0px 1px 3px 1px rgba(60, 64, 67, 0.15);\n",
              "      fill: #174EA6;\n",
              "    }\n",
              "\n",
              "    [theme=dark] .colab-df-convert {\n",
              "      background-color: #3B4455;\n",
              "      fill: #D2E3FC;\n",
              "    }\n",
              "\n",
              "    [theme=dark] .colab-df-convert:hover {\n",
              "      background-color: #434B5C;\n",
              "      box-shadow: 0px 1px 3px 1px rgba(0, 0, 0, 0.15);\n",
              "      filter: drop-shadow(0px 1px 2px rgba(0, 0, 0, 0.3));\n",
              "      fill: #FFFFFF;\n",
              "    }\n",
              "  </style>\n",
              "\n",
              "      <script>\n",
              "        const buttonEl =\n",
              "          document.querySelector('#df-c941c22a-4106-4796-8e63-03057ad23691 button.colab-df-convert');\n",
              "        buttonEl.style.display =\n",
              "          google.colab.kernel.accessAllowed ? 'block' : 'none';\n",
              "\n",
              "        async function convertToInteractive(key) {\n",
              "          const element = document.querySelector('#df-c941c22a-4106-4796-8e63-03057ad23691');\n",
              "          const dataTable =\n",
              "            await google.colab.kernel.invokeFunction('convertToInteractive',\n",
              "                                                     [key], {});\n",
              "          if (!dataTable) return;\n",
              "\n",
              "          const docLinkHtml = 'Like what you see? Visit the ' +\n",
              "            '<a target=\"_blank\" href=https://colab.research.google.com/notebooks/data_table.ipynb>data table notebook</a>'\n",
              "            + ' to learn more about interactive tables.';\n",
              "          element.innerHTML = '';\n",
              "          dataTable['output_type'] = 'display_data';\n",
              "          await google.colab.output.renderOutput(dataTable, element);\n",
              "          const docLink = document.createElement('div');\n",
              "          docLink.innerHTML = docLinkHtml;\n",
              "          element.appendChild(docLink);\n",
              "        }\n",
              "      </script>\n",
              "    </div>\n",
              "  </div>\n",
              "  "
            ]
          },
          "metadata": {},
          "execution_count": 9
        }
      ]
    },
    {
      "cell_type": "markdown",
      "source": [
        "<font color=82D712> **Calculando as Frequências**"
      ],
      "metadata": {
        "id": "QbYfKPzyxyod"
      }
    },
    {
      "cell_type": "code",
      "source": [
        "frequenciaS = perfil_clientes['Sexo'].value_counts(normalize = True).round(3)*100\n",
        "frequenciaF = perfil_clientes['Idoso'].value_counts(normalize = True).round(3)*100\n",
        "frequenciaE = perfil_clientes['Parceiros'].value_counts(normalize = True).round(3)*100\n",
        "frequenciaD = perfil_clientes['Dependentes'].value_counts(normalize = True).round(3)*100\n",
        "\n",
        "dist_freq = pd.DataFrame({'Sexo': frequenciaS, 'Faixa Etária': frequenciaF, \n",
        "                          'Estado Civil':frequenciaE, 'Dependentes':frequenciaD})\n",
        "dist_freq"
      ],
      "metadata": {
        "colab": {
          "base_uri": "https://localhost:8080/",
          "height": 112
        },
        "id": "RV_SN95AxnGB",
        "outputId": "27b7fc7d-67ed-4ce8-f5e0-e3f04722be70"
      },
      "execution_count": null,
      "outputs": [
        {
          "output_type": "execute_result",
          "data": {
            "text/plain": [
              "   Sexo  Faixa Etária  Estado Civil  Dependentes\n",
              "0  50.5          83.8          51.7         70.0\n",
              "1  49.5          16.2          48.3         30.0"
            ],
            "text/html": [
              "\n",
              "  <div id=\"df-e99d472b-b825-4cd3-9c61-1053bdd0c626\">\n",
              "    <div class=\"colab-df-container\">\n",
              "      <div>\n",
              "<style scoped>\n",
              "    .dataframe tbody tr th:only-of-type {\n",
              "        vertical-align: middle;\n",
              "    }\n",
              "\n",
              "    .dataframe tbody tr th {\n",
              "        vertical-align: top;\n",
              "    }\n",
              "\n",
              "    .dataframe thead th {\n",
              "        text-align: right;\n",
              "    }\n",
              "</style>\n",
              "<table border=\"1\" class=\"dataframe\">\n",
              "  <thead>\n",
              "    <tr style=\"text-align: right;\">\n",
              "      <th></th>\n",
              "      <th>Sexo</th>\n",
              "      <th>Faixa Etária</th>\n",
              "      <th>Estado Civil</th>\n",
              "      <th>Dependentes</th>\n",
              "    </tr>\n",
              "  </thead>\n",
              "  <tbody>\n",
              "    <tr>\n",
              "      <th>0</th>\n",
              "      <td>50.5</td>\n",
              "      <td>83.8</td>\n",
              "      <td>51.7</td>\n",
              "      <td>70.0</td>\n",
              "    </tr>\n",
              "    <tr>\n",
              "      <th>1</th>\n",
              "      <td>49.5</td>\n",
              "      <td>16.2</td>\n",
              "      <td>48.3</td>\n",
              "      <td>30.0</td>\n",
              "    </tr>\n",
              "  </tbody>\n",
              "</table>\n",
              "</div>\n",
              "      <button class=\"colab-df-convert\" onclick=\"convertToInteractive('df-e99d472b-b825-4cd3-9c61-1053bdd0c626')\"\n",
              "              title=\"Convert this dataframe to an interactive table.\"\n",
              "              style=\"display:none;\">\n",
              "        \n",
              "  <svg xmlns=\"http://www.w3.org/2000/svg\" height=\"24px\"viewBox=\"0 0 24 24\"\n",
              "       width=\"24px\">\n",
              "    <path d=\"M0 0h24v24H0V0z\" fill=\"none\"/>\n",
              "    <path d=\"M18.56 5.44l.94 2.06.94-2.06 2.06-.94-2.06-.94-.94-2.06-.94 2.06-2.06.94zm-11 1L8.5 8.5l.94-2.06 2.06-.94-2.06-.94L8.5 2.5l-.94 2.06-2.06.94zm10 10l.94 2.06.94-2.06 2.06-.94-2.06-.94-.94-2.06-.94 2.06-2.06.94z\"/><path d=\"M17.41 7.96l-1.37-1.37c-.4-.4-.92-.59-1.43-.59-.52 0-1.04.2-1.43.59L10.3 9.45l-7.72 7.72c-.78.78-.78 2.05 0 2.83L4 21.41c.39.39.9.59 1.41.59.51 0 1.02-.2 1.41-.59l7.78-7.78 2.81-2.81c.8-.78.8-2.07 0-2.86zM5.41 20L4 18.59l7.72-7.72 1.47 1.35L5.41 20z\"/>\n",
              "  </svg>\n",
              "      </button>\n",
              "      \n",
              "  <style>\n",
              "    .colab-df-container {\n",
              "      display:flex;\n",
              "      flex-wrap:wrap;\n",
              "      gap: 12px;\n",
              "    }\n",
              "\n",
              "    .colab-df-convert {\n",
              "      background-color: #E8F0FE;\n",
              "      border: none;\n",
              "      border-radius: 50%;\n",
              "      cursor: pointer;\n",
              "      display: none;\n",
              "      fill: #1967D2;\n",
              "      height: 32px;\n",
              "      padding: 0 0 0 0;\n",
              "      width: 32px;\n",
              "    }\n",
              "\n",
              "    .colab-df-convert:hover {\n",
              "      background-color: #E2EBFA;\n",
              "      box-shadow: 0px 1px 2px rgba(60, 64, 67, 0.3), 0px 1px 3px 1px rgba(60, 64, 67, 0.15);\n",
              "      fill: #174EA6;\n",
              "    }\n",
              "\n",
              "    [theme=dark] .colab-df-convert {\n",
              "      background-color: #3B4455;\n",
              "      fill: #D2E3FC;\n",
              "    }\n",
              "\n",
              "    [theme=dark] .colab-df-convert:hover {\n",
              "      background-color: #434B5C;\n",
              "      box-shadow: 0px 1px 3px 1px rgba(0, 0, 0, 0.15);\n",
              "      filter: drop-shadow(0px 1px 2px rgba(0, 0, 0, 0.3));\n",
              "      fill: #FFFFFF;\n",
              "    }\n",
              "  </style>\n",
              "\n",
              "      <script>\n",
              "        const buttonEl =\n",
              "          document.querySelector('#df-e99d472b-b825-4cd3-9c61-1053bdd0c626 button.colab-df-convert');\n",
              "        buttonEl.style.display =\n",
              "          google.colab.kernel.accessAllowed ? 'block' : 'none';\n",
              "\n",
              "        async function convertToInteractive(key) {\n",
              "          const element = document.querySelector('#df-e99d472b-b825-4cd3-9c61-1053bdd0c626');\n",
              "          const dataTable =\n",
              "            await google.colab.kernel.invokeFunction('convertToInteractive',\n",
              "                                                     [key], {});\n",
              "          if (!dataTable) return;\n",
              "\n",
              "          const docLinkHtml = 'Like what you see? Visit the ' +\n",
              "            '<a target=\"_blank\" href=https://colab.research.google.com/notebooks/data_table.ipynb>data table notebook</a>'\n",
              "            + ' to learn more about interactive tables.';\n",
              "          element.innerHTML = '';\n",
              "          dataTable['output_type'] = 'display_data';\n",
              "          await google.colab.output.renderOutput(dataTable, element);\n",
              "          const docLink = document.createElement('div');\n",
              "          docLink.innerHTML = docLinkHtml;\n",
              "          element.appendChild(docLink);\n",
              "        }\n",
              "      </script>\n",
              "    </div>\n",
              "  </div>\n",
              "  "
            ]
          },
          "metadata": {},
          "execution_count": 10
        }
      ]
    },
    {
      "cell_type": "markdown",
      "source": [
        "<font color=82D712> **Plotando o Perfil dos Clientes**"
      ],
      "metadata": {
        "id": "UVAOz3inyGzw"
      }
    },
    {
      "cell_type": "code",
      "source": [
        "#Vars\n",
        "color = (\"#82D712\",\"#2C3E50\")\n",
        "\n",
        "# Grafíco de Frequencia\n",
        "perfil = dist_freq.T.plot(kind='barh',stacked=True, color=color)\n",
        "perfil.set_title(\"Perfil do Cliente\", fontsize = 18, fontweight='bold')\n",
        "\n",
        "# Label\n",
        "perfil.set_xlabel('Frequência', fontsize=13, fontweight='bold')\n",
        "\n",
        "# Legends\n",
        "plt.legend(bbox_to_anchor=(1,1), fontsize=11)\n",
        "\n",
        "#Grid\n",
        "plt.show()"
      ],
      "metadata": {
        "colab": {
          "base_uri": "https://localhost:8080/",
          "height": 305
        },
        "id": "XlpiUhMJyCn1",
        "outputId": "6f786913-c5b1-4493-f7e3-57ffea686403"
      },
      "execution_count": null,
      "outputs": [
        {
          "output_type": "display_data",
          "data": {
            "text/plain": [
              "<Figure size 432x288 with 1 Axes>"
            ],
            "image/png": "[encoded data removed]"
          },
          "metadata": {}
        }
      ]
    },
    {
      "cell_type": "markdown",
      "source": [
        "\n",
        "\n",
        "---\n",
        "\n",
        "<font color=82D712 size=\"5\"><b>Conclusões</b></font>\n",
        "\n",
        "<p>A partir do gráfico pode-se traçar as seguintes caracteristicas dos clientes:</p>\n",
        "\n",
        "<font color=82D712><b>1.</b></font> Maior parte dos clientes não possuem <b><em>dependentes</em></b>. <br>\n",
        "<font color=82D712><b>2.</b></font> Maior parte dos clientes não são <b><em>Idosos</em></b> (idade < 65 anos). <br>\n",
        "<font color=82D712><b>3.</b></font> Quanto ao <b><em>Sexo</em></b> e <b><em>estado civil</em></b> a proporção está bem equlibrida (quase 50%) entre <em>solteiros</em> e <em>com parceiros</em>, assim como o <em>mulheres</em> e <em>homens</em>.<br>\n"
      ],
      "metadata": {
        "id": "ZMwM1yZ4yfln"
      }
    },
    {
      "cell_type": "markdown",
      "source": [
        "# <font color=2C3E50>**04. Primeira Hipótesis**"
      ],
      "metadata": {
        "id": "j4eIFtvR2I8G"
      }
    },
    {
      "cell_type": "markdown",
      "source": [
        "A <font color=82D712><b>Primeira hipótese</b></font> é há da possibilidade de clientes que pagaram um valor acima da media geral na Cobrança Mensal possuem maior taxa de evasão que os outros, e caso a hipotese seja confirmada, analizar a razão deste valor elevado. A hipótese será explorada da seguinte forma:<br> \n",
        "\n",
        "\n",
        "<font color=82D712><b>1.</b></font> <b>Criar</b> um histograma de frequencia dos Gastos dos clientes.<br>\n",
        "<font color=82D712><b>2.</b></font> <b>Verificar</b> se há relação de churn entre os tipos de contrato.<br>\n",
        "<font color=82D712><b>3.</b></font> <b>Verificar</b> a relação de churn entre os cliente que pagaram um valor acima da media geral.<br>\n",
        "<font color=82D712><b>4.</b></font> Caso o item 3 seja confirmado: <b>Analizar</b> a razão do valor pago elevado.<br>\n",
        "\n"
      ],
      "metadata": {
        "id": "opPJQkY12yAd"
      }
    },
    {
      "cell_type": "code",
      "source": [
        "# Criando um DataFrame \n",
        "gastos_clientes = pd.DataFrame(data= df_aluravoz, columns=['Churn', 'Cobrança_Mensal', 'Cobrança_Total', \n",
        "                                                           'Contrato_Mensal', 'Contrato_Anual', 'Contrato_Bianual'])\n",
        "gastos_clientes.head(2)"
      ],
      "metadata": {
        "colab": {
          "base_uri": "https://localhost:8080/",
          "height": 112
        },
        "id": "yKQM4yM32hGF",
        "outputId": "04cf3986-7fd2-4cf5-d978-12b5c92c50b9"
      },
      "execution_count": null,
      "outputs": [
        {
          "output_type": "execute_result",
          "data": {
            "text/plain": [
              "   Churn  Cobrança_Mensal  Cobrança_Total  Contrato_Mensal  Contrato_Anual  \\\n",
              "0      0             65.6           593.3                0               1   \n",
              "1      0             59.9           542.4                1               0   \n",
              "\n",
              "   Contrato_Bianual  \n",
              "0                 0  \n",
              "1                 0  "
            ],
            "text/html": [
              "\n",
              "  <div id=\"df-56d4e791-4122-464b-bfef-873399bd1e99\">\n",
              "    <div class=\"colab-df-container\">\n",
              "      <div>\n",
              "<style scoped>\n",
              "    .dataframe tbody tr th:only-of-type {\n",
              "        vertical-align: middle;\n",
              "    }\n",
              "\n",
              "    .dataframe tbody tr th {\n",
              "        vertical-align: top;\n",
              "    }\n",
              "\n",
              "    .dataframe thead th {\n",
              "        text-align: right;\n",
              "    }\n",
              "</style>\n",
              "<table border=\"1\" class=\"dataframe\">\n",
              "  <thead>\n",
              "    <tr style=\"text-align: right;\">\n",
              "      <th></th>\n",
              "      <th>Churn</th>\n",
              "      <th>Cobrança_Mensal</th>\n",
              "      <th>Cobrança_Total</th>\n",
              "      <th>Contrato_Mensal</th>\n",
              "      <th>Contrato_Anual</th>\n",
              "      <th>Contrato_Bianual</th>\n",
              "    </tr>\n",
              "  </thead>\n",
              "  <tbody>\n",
              "    <tr>\n",
              "      <th>0</th>\n",
              "      <td>0</td>\n",
              "      <td>65.6</td>\n",
              "      <td>593.3</td>\n",
              "      <td>0</td>\n",
              "      <td>1</td>\n",
              "      <td>0</td>\n",
              "    </tr>\n",
              "    <tr>\n",
              "      <th>1</th>\n",
              "      <td>0</td>\n",
              "      <td>59.9</td>\n",
              "      <td>542.4</td>\n",
              "      <td>1</td>\n",
              "      <td>0</td>\n",
              "      <td>0</td>\n",
              "    </tr>\n",
              "  </tbody>\n",
              "</table>\n",
              "</div>\n",
              "      <button class=\"colab-df-convert\" onclick=\"convertToInteractive('df-56d4e791-4122-464b-bfef-873399bd1e99')\"\n",
              "              title=\"Convert this dataframe to an interactive table.\"\n",
              "              style=\"display:none;\">\n",
              "        \n",
              "  <svg xmlns=\"http://www.w3.org/2000/svg\" height=\"24px\"viewBox=\"0 0 24 24\"\n",
              "       width=\"24px\">\n",
              "    <path d=\"M0 0h24v24H0V0z\" fill=\"none\"/>\n",
              "    <path d=\"M18.56 5.44l.94 2.06.94-2.06 2.06-.94-2.06-.94-.94-2.06-.94 2.06-2.06.94zm-11 1L8.5 8.5l.94-2.06 2.06-.94-2.06-.94L8.5 2.5l-.94 2.06-2.06.94zm10 10l.94 2.06.94-2.06 2.06-.94-2.06-.94-.94-2.06-.94 2.06-2.06.94z\"/><path d=\"M17.41 7.96l-1.37-1.37c-.4-.4-.92-.59-1.43-.59-.52 0-1.04.2-1.43.59L10.3 9.45l-7.72 7.72c-.78.78-.78 2.05 0 2.83L4 21.41c.39.39.9.59 1.41.59.51 0 1.02-.2 1.41-.59l7.78-7.78 2.81-2.81c.8-.78.8-2.07 0-2.86zM5.41 20L4 18.59l7.72-7.72 1.47 1.35L5.41 20z\"/>\n",
              "  </svg>\n",
              "      </button>\n",
              "      \n",
              "  <style>\n",
              "    .colab-df-container {\n",
              "      display:flex;\n",
              "      flex-wrap:wrap;\n",
              "      gap: 12px;\n",
              "    }\n",
              "\n",
              "    .colab-df-convert {\n",
              "      background-color: #E8F0FE;\n",
              "      border: none;\n",
              "      border-radius: 50%;\n",
              "      cursor: pointer;\n",
              "      display: none;\n",
              "      fill: #1967D2;\n",
              "      height: 32px;\n",
              "      padding: 0 0 0 0;\n",
              "      width: 32px;\n",
              "    }\n",
              "\n",
              "    .colab-df-convert:hover {\n",
              "      background-color: #E2EBFA;\n",
              "      box-shadow: 0px 1px 2px rgba(60, 64, 67, 0.3), 0px 1px 3px 1px rgba(60, 64, 67, 0.15);\n",
              "      fill: #174EA6;\n",
              "    }\n",
              "\n",
              "    [theme=dark] .colab-df-convert {\n",
              "      background-color: #3B4455;\n",
              "      fill: #D2E3FC;\n",
              "    }\n",
              "\n",
              "    [theme=dark] .colab-df-convert:hover {\n",
              "      background-color: #434B5C;\n",
              "      box-shadow: 0px 1px 3px 1px rgba(0, 0, 0, 0.15);\n",
              "      filter: drop-shadow(0px 1px 2px rgba(0, 0, 0, 0.3));\n",
              "      fill: #FFFFFF;\n",
              "    }\n",
              "  </style>\n",
              "\n",
              "      <script>\n",
              "        const buttonEl =\n",
              "          document.querySelector('#df-56d4e791-4122-464b-bfef-873399bd1e99 button.colab-df-convert');\n",
              "        buttonEl.style.display =\n",
              "          google.colab.kernel.accessAllowed ? 'block' : 'none';\n",
              "\n",
              "        async function convertToInteractive(key) {\n",
              "          const element = document.querySelector('#df-56d4e791-4122-464b-bfef-873399bd1e99');\n",
              "          const dataTable =\n",
              "            await google.colab.kernel.invokeFunction('convertToInteractive',\n",
              "                                                     [key], {});\n",
              "          if (!dataTable) return;\n",
              "\n",
              "          const docLinkHtml = 'Like what you see? Visit the ' +\n",
              "            '<a target=\"_blank\" href=https://colab.research.google.com/notebooks/data_table.ipynb>data table notebook</a>'\n",
              "            + ' to learn more about interactive tables.';\n",
              "          element.innerHTML = '';\n",
              "          dataTable['output_type'] = 'display_data';\n",
              "          await google.colab.output.renderOutput(dataTable, element);\n",
              "          const docLink = document.createElement('div');\n",
              "          docLink.innerHTML = docLinkHtml;\n",
              "          element.appendChild(docLink);\n",
              "        }\n",
              "      </script>\n",
              "    </div>\n",
              "  </div>\n",
              "  "
            ]
          },
          "metadata": {},
          "execution_count": 12
        }
      ]
    },
    {
      "cell_type": "code",
      "source": [
        "#Criando histogramas de frequencia para contrato mensal e o contrato anual\n",
        "fig, axs = plt.subplots(nrows=2, figsize=(6, 6))\n",
        "plt.subplots_adjust(hspace = 0.6)\n",
        "\n",
        "#plot\n",
        "ax = sns.histplot(data=gastos_clientes['Cobrança_Mensal'], ax=axs[0], bins = 18, color=\"#2C3E50\", kde=True)\n",
        "\n",
        "ax1 = sns.histplot(data=gastos_clientes['Cobrança_Total'], ax=axs[1], bins = 18, color=\"#2C3E50\", kde=True)\n",
        "\n",
        "ax.set(title='Valor da Cobrança Mensal')\n",
        "ax1.set(title='Valor da Cobrança Total')\n",
        "\n",
        "plt.show()"
      ],
      "metadata": {
        "colab": {
          "base_uri": "https://localhost:8080/",
          "height": 410
        },
        "id": "LVpwSBFCIjsE",
        "outputId": "0806cc83-fcd8-438a-d812-96d2da7594de"
      },
      "execution_count": null,
      "outputs": [
        {
          "output_type": "display_data",
          "data": {
            "text/plain": [
              "<Figure size 432x432 with 2 Axes>"
            ],
            "image/png": "[encoded data removed]"
          },
          "metadata": {}
        }
      ]
    },
    {
      "cell_type": "markdown",
      "source": [
        "\n",
        "\n",
        "---\n",
        "\n",
        "<font color=82D712 size=\"5\"><b>Conclusões</b></font>\n",
        "\n",
        "* A maioria dos clientes pagam entre `R$ 0,00 - R$ 20,00` na cobrança mensal\n",
        "* A maioria dos clientes pagaram entre`R$ 0,00 - R$ 50,00` na cobrança anual\n",
        "* Para um modelo baseado em pagamentos recorrentes essa cobrança anual esta muito baixa e já indica um problema no tenure (tempo de contrato)"
      ],
      "metadata": {
        "id": "yjKsfbAwPZCb"
      }
    },
    {
      "cell_type": "markdown",
      "source": [
        "## <font color=2C3E50>**04.1 Verificando a relação do churn por contrato**"
      ],
      "metadata": {
        "id": "hY5Ks3cpEbTb"
      }
    },
    {
      "cell_type": "code",
      "source": [
        "# Plot\n",
        "fig, axs = plt.subplots(ncols=3, figsize=(9, 2.5))\n",
        "plt.subplots_adjust(wspace = 0.6)\n",
        "fig.suptitle(\"Churn X Tipo de Contrato\", y=1.08 ,fontsize = 18, fontweight='bold')\n",
        "\n",
        "#Vars\n",
        "colorA = (\"#B6EA44\",\"#82D712\")\n",
        "colorB = (\"#048BA8\",\"#2C3E50\")\n",
        "labels = ('Não Evadiu', 'Evadiu')\n",
        "limites = (0, 2500)\n",
        "\n",
        "CMensal = gastos_clientes.query(\"Contrato_Mensal == 1\")\n",
        "CAnual = gastos_clientes.query(\"Contrato_Anual == 1\")\n",
        "CBianual = gastos_clientes.query(\"Contrato_Bianual == 1\")\n",
        "\n",
        "# Plot do churn por gasto\n",
        "ax = sns.countplot(x=\"Churn\", data=CMensal, \n",
        "                   ax=axs[0], palette=colorA)\n",
        "\n",
        "ax1 = sns.countplot(x=\"Churn\", data=CAnual, \n",
        "                   ax=axs[1], palette=colorB)\n",
        "\n",
        "ax2 = sns.countplot(x=\"Churn\", data=CBianual, \n",
        "                   ax=axs[2], palette=colorA)\n",
        "\n",
        "# Adiciona a legenda e detalhes do axis\n",
        "\n",
        "ax.set(ylim=limites, xticklabels=labels, title='Contrato Mensal')\n",
        "ax1.set(ylim=limites, xticklabels=labels, title='Contrato Anual')\n",
        "ax2.set(ylim=limites, xticklabels=labels, title='Contrato Bianual')\n",
        "\n",
        "fig.show()"
      ],
      "metadata": {
        "colab": {
          "base_uri": "https://localhost:8080/",
          "height": 239
        },
        "id": "XlvtruG4ErpZ",
        "outputId": "6ac8ad0e-41fe-46d5-9da0-18e9318346e3"
      },
      "execution_count": null,
      "outputs": [
        {
          "output_type": "display_data",
          "data": {
            "text/plain": [
              "<Figure size 648x180 with 3 Axes>"
            ],
            "image/png": "[encoded data removed]"
          },
          "metadata": {}
        }
      ]
    },
    {
      "cell_type": "markdown",
      "source": [
        "\n",
        "\n",
        "---\n",
        "\n",
        "<font color=82D712 size=\"5\"><b>Conclusões</b></font>\n",
        "\n",
        "* Clientes que possuem contrato do tipo mensal apresentam maior churn, mas, também maior quantidade de clientes.\n",
        "* O contrato bianul teve a menor quantidade de churn.\n",
        "* O contrato do tipo anual possui a menor quantidade de clientes, mas, o churn se apresenta maior que o bianual (que possui mais clientes)"
      ],
      "metadata": {
        "id": "Og3IlBP8QRmV"
      }
    },
    {
      "cell_type": "markdown",
      "source": [
        "## <font color=2C3E50>**04.2 Verificando a relação do churn por Media de Gastos**"
      ],
      "metadata": {
        "id": "8JBRINcCHv0j"
      }
    },
    {
      "cell_type": "code",
      "source": [
        "# Estabelecendo filtros de acordo com Mediana dos Gastos\n",
        "mediana = gastos_clientes['Cobrança_Mensal'].median()\n",
        "\n",
        "#\n",
        "filtro_baixo = gastos_clientes.query(\"Cobrança_Mensal < 70.35\")\n",
        "filtro_alto = gastos_clientes.query(\"Cobrança_Mensal >= 70.35\")"
      ],
      "metadata": {
        "id": "tn1jhTf43NVG"
      },
      "execution_count": null,
      "outputs": []
    },
    {
      "cell_type": "code",
      "source": [
        "# Plot\n",
        "fig, axs = plt.subplots(ncols=2, figsize=(8,4))\n",
        "plt.subplots_adjust(wspace = 0.5)\n",
        "fig.suptitle(\"Churn X Gasto Mensal\", y=1.08 ,fontsize = 18, fontweight='bold')\n",
        "\n",
        "#Vars\n",
        "colorA = (\"#B6EA44\",\"#82D712\")\n",
        "colorB = (\"#048BA8\",\"#2C3E50\")\n",
        "\n",
        "# Plot do churn por gasto\n",
        "ax = sns.countplot(x=\"Churn\", data=filtro_baixo, \n",
        "                   ax=axs[0], palette=colorA)\n",
        "\n",
        "ax1 = sns.countplot(x=\"Churn\", data=filtro_alto, \n",
        "                   ax=axs[1], palette=colorB)\n",
        "\n",
        "\n",
        "#Adiciona a legenda e detalhes do axis\n",
        "\n",
        "ax.set(ylim=(0, 3000), xticklabels=('Não Evadiu', 'Evadiu'), title='Cobrança < a 70.4')\n",
        "ax1.set(ylim=(0, 3000), xticklabels=('Não Evadiu', 'Evadiu'), title='Cobrança ≥ a 70.4')\n",
        "\n",
        "fig.show()"
      ],
      "metadata": {
        "colab": {
          "base_uri": "https://localhost:8080/",
          "height": 342
        },
        "id": "yPZOoh3533a9",
        "outputId": "65699218-8613-4c74-8a6e-31cb0fe7ec15"
      },
      "execution_count": null,
      "outputs": [
        {
          "output_type": "display_data",
          "data": {
            "text/plain": [
              "<Figure size 576x288 with 2 Axes>"
            ],
            "image/png": "[encoded data removed]"
          },
          "metadata": {}
        }
      ]
    },
    {
      "cell_type": "markdown",
      "source": [
        "\n",
        "---\n",
        "<font color=82D712 size=\"5\"><b>Conclusões</b></font>\n",
        "\n",
        "De acordo com o gráfico podemos inferir que a hipótese 1 é verdadeira, os dados apresentam que, no caso do clientes que pagam abaixo da mediana de gastos apresentam um churn bem menor quanto aos de alto gasto. Quais produtos estão contribuindo para esse gasto elevado?"
      ],
      "metadata": {
        "id": "YPtLRpRz5tOh"
      }
    },
    {
      "cell_type": "markdown",
      "source": [
        "# <font color=2C3E50>**05. Segunda Hipótesis**"
      ],
      "metadata": {
        "id": "Qd19QIzR2NOF"
      }
    },
    {
      "cell_type": "markdown",
      "source": [
        "A <font color=82D712><b>Segunda Hipótese</b></font> tem como foco os produtos. A empresa oferta dois três de serviços, sendo elas, linhas telefônicas, serviços de Internet DSL e Internet Fibra Otica. Será analisado para cada serviço (e os produtos que englobam) a quantidade de churn e verificar se, existe alguma relação entre o tipo de serviço e as características dos clientes, com um foco, em especial, a idade (Cidadão Senior).\n",
        "\n",
        "<font color=82D712><b>1.</b></font> <b>Verificar</b> se há relação de churn entre os serviços ofertados<br>\n",
        "<font color=82D712><b>2.</b></font> <b>Verificar</b> se há relação de churn entre os sub-produtos<br>\n",
        "<font color=82D712><b>3.</b></font> <b>verificar</b> se há relação entre o tipo de serviço e o perfil dos clientes <br>\n",
        "\n",
        "As bibliotecas que serão usadas são:\n",
        ">O <font color=82D712><b>Plotly</b></font> para criar gráficos interativos"
      ],
      "metadata": {
        "id": "SFaTHh4f5_yn"
      }
    },
    {
      "cell_type": "code",
      "source": [
        "produtos = pd.DataFrame(data=df_aluravoz, columns=['Telefonia', 'Internet_DSL', 'Internet_Fiber_Optic', 'Churn'])\n",
        "produtos.head()"
      ],
      "metadata": {
        "id": "9m880c-K2gqu",
        "colab": {
          "base_uri": "https://localhost:8080/",
          "height": 206
        },
        "outputId": "b2e052a4-c4ae-4a27-919f-3a1be08a37eb"
      },
      "execution_count": null,
      "outputs": [
        {
          "output_type": "execute_result",
          "data": {
            "text/plain": [
              "   Telefonia  Internet_DSL  Internet_Fiber_Optic  Churn\n",
              "0          1             1                     0      0\n",
              "1          1             1                     0      0\n",
              "2          1             0                     1      1\n",
              "3          1             0                     1      1\n",
              "4          1             0                     1      1"
            ],
            "text/html": [
              "\n",
              "  <div id=\"df-ab6edb29-7de7-42ef-a783-fa880e65d4d8\">\n",
              "    <div class=\"colab-df-container\">\n",
              "      <div>\n",
              "<style scoped>\n",
              "    .dataframe tbody tr th:only-of-type {\n",
              "        vertical-align: middle;\n",
              "    }\n",
              "\n",
              "    .dataframe tbody tr th {\n",
              "        vertical-align: top;\n",
              "    }\n",
              "\n",
              "    .dataframe thead th {\n",
              "        text-align: right;\n",
              "    }\n",
              "</style>\n",
              "<table border=\"1\" class=\"dataframe\">\n",
              "  <thead>\n",
              "    <tr style=\"text-align: right;\">\n",
              "      <th></th>\n",
              "      <th>Telefonia</th>\n",
              "      <th>Internet_DSL</th>\n",
              "      <th>Internet_Fiber_Optic</th>\n",
              "      <th>Churn</th>\n",
              "    </tr>\n",
              "  </thead>\n",
              "  <tbody>\n",
              "    <tr>\n",
              "      <th>0</th>\n",
              "      <td>1</td>\n",
              "      <td>1</td>\n",
              "      <td>0</td>\n",
              "      <td>0</td>\n",
              "    </tr>\n",
              "    <tr>\n",
              "      <th>1</th>\n",
              "      <td>1</td>\n",
              "      <td>1</td>\n",
              "      <td>0</td>\n",
              "      <td>0</td>\n",
              "    </tr>\n",
              "    <tr>\n",
              "      <th>2</th>\n",
              "      <td>1</td>\n",
              "      <td>0</td>\n",
              "      <td>1</td>\n",
              "      <td>1</td>\n",
              "    </tr>\n",
              "    <tr>\n",
              "      <th>3</th>\n",
              "      <td>1</td>\n",
              "      <td>0</td>\n",
              "      <td>1</td>\n",
              "      <td>1</td>\n",
              "    </tr>\n",
              "    <tr>\n",
              "      <th>4</th>\n",
              "      <td>1</td>\n",
              "      <td>0</td>\n",
              "      <td>1</td>\n",
              "      <td>1</td>\n",
              "    </tr>\n",
              "  </tbody>\n",
              "</table>\n",
              "</div>\n",
              "      <button class=\"colab-df-convert\" onclick=\"convertToInteractive('df-ab6edb29-7de7-42ef-a783-fa880e65d4d8')\"\n",
              "              title=\"Convert this dataframe to an interactive table.\"\n",
              "              style=\"display:none;\">\n",
              "        \n",
              "  <svg xmlns=\"http://www.w3.org/2000/svg\" height=\"24px\"viewBox=\"0 0 24 24\"\n",
              "       width=\"24px\">\n",
              "    <path d=\"M0 0h24v24H0V0z\" fill=\"none\"/>\n",
              "    <path d=\"M18.56 5.44l.94 2.06.94-2.06 2.06-.94-2.06-.94-.94-2.06-.94 2.06-2.06.94zm-11 1L8.5 8.5l.94-2.06 2.06-.94-2.06-.94L8.5 2.5l-.94 2.06-2.06.94zm10 10l.94 2.06.94-2.06 2.06-.94-2.06-.94-.94-2.06-.94 2.06-2.06.94z\"/><path d=\"M17.41 7.96l-1.37-1.37c-.4-.4-.92-.59-1.43-.59-.52 0-1.04.2-1.43.59L10.3 9.45l-7.72 7.72c-.78.78-.78 2.05 0 2.83L4 21.41c.39.39.9.59 1.41.59.51 0 1.02-.2 1.41-.59l7.78-7.78 2.81-2.81c.8-.78.8-2.07 0-2.86zM5.41 20L4 18.59l7.72-7.72 1.47 1.35L5.41 20z\"/>\n",
              "  </svg>\n",
              "      </button>\n",
              "      \n",
              "  <style>\n",
              "    .colab-df-container {\n",
              "      display:flex;\n",
              "      flex-wrap:wrap;\n",
              "      gap: 12px;\n",
              "    }\n",
              "\n",
              "    .colab-df-convert {\n",
              "      background-color: #E8F0FE;\n",
              "      border: none;\n",
              "      border-radius: 50%;\n",
              "      cursor: pointer;\n",
              "      display: none;\n",
              "      fill: #1967D2;\n",
              "      height: 32px;\n",
              "      padding: 0 0 0 0;\n",
              "      width: 32px;\n",
              "    }\n",
              "\n",
              "    .colab-df-convert:hover {\n",
              "      background-color: #E2EBFA;\n",
              "      box-shadow: 0px 1px 2px rgba(60, 64, 67, 0.3), 0px 1px 3px 1px rgba(60, 64, 67, 0.15);\n",
              "      fill: #174EA6;\n",
              "    }\n",
              "\n",
              "    [theme=dark] .colab-df-convert {\n",
              "      background-color: #3B4455;\n",
              "      fill: #D2E3FC;\n",
              "    }\n",
              "\n",
              "    [theme=dark] .colab-df-convert:hover {\n",
              "      background-color: #434B5C;\n",
              "      box-shadow: 0px 1px 3px 1px rgba(0, 0, 0, 0.15);\n",
              "      filter: drop-shadow(0px 1px 2px rgba(0, 0, 0, 0.3));\n",
              "      fill: #FFFFFF;\n",
              "    }\n",
              "  </style>\n",
              "\n",
              "      <script>\n",
              "        const buttonEl =\n",
              "          document.querySelector('#df-ab6edb29-7de7-42ef-a783-fa880e65d4d8 button.colab-df-convert');\n",
              "        buttonEl.style.display =\n",
              "          google.colab.kernel.accessAllowed ? 'block' : 'none';\n",
              "\n",
              "        async function convertToInteractive(key) {\n",
              "          const element = document.querySelector('#df-ab6edb29-7de7-42ef-a783-fa880e65d4d8');\n",
              "          const dataTable =\n",
              "            await google.colab.kernel.invokeFunction('convertToInteractive',\n",
              "                                                     [key], {});\n",
              "          if (!dataTable) return;\n",
              "\n",
              "          const docLinkHtml = 'Like what you see? Visit the ' +\n",
              "            '<a target=\"_blank\" href=https://colab.research.google.com/notebooks/data_table.ipynb>data table notebook</a>'\n",
              "            + ' to learn more about interactive tables.';\n",
              "          element.innerHTML = '';\n",
              "          dataTable['output_type'] = 'display_data';\n",
              "          await google.colab.output.renderOutput(dataTable, element);\n",
              "          const docLink = document.createElement('div');\n",
              "          docLink.innerHTML = docLinkHtml;\n",
              "          element.appendChild(docLink);\n",
              "        }\n",
              "      </script>\n",
              "    </div>\n",
              "  </div>\n",
              "  "
            ]
          },
          "metadata": {},
          "execution_count": 17
        }
      ]
    },
    {
      "cell_type": "markdown",
      "source": [
        "## <font color=2C3E50>**05.1. Verificando a % de clientes para cada Produto**"
      ],
      "metadata": {
        "id": "2iiURmKC6P8_"
      }
    },
    {
      "cell_type": "code",
      "source": [
        "percentualT = round(produtos['Telefonia'].value_counts(normalize = True) * 100, 2)\n",
        "percentualI = round(produtos['Internet_DSL'].value_counts(normalize = True) * 100, 2)\n",
        "percentualST = round(produtos['Internet_Fiber_Optic'].value_counts(normalize = True) * 100, 2)\n",
        "\n",
        "freq = pd.DataFrame({'Telefônia (%)': percentualT, \n",
        "                       'Internet: DSL (%)': percentualI,\n",
        "                       'Internet: Fiber Optic (%)': percentualST,})\n",
        "freq.rename(index = {0: 'Não Possui', 1: 'Possui'}, inplace = True)\n",
        "freq"
      ],
      "metadata": {
        "id": "fShIiiqR6TMz",
        "colab": {
          "base_uri": "https://localhost:8080/",
          "height": 112
        },
        "outputId": "ce538925-5f33-43a2-9a83-4b1513bb1834"
      },
      "execution_count": null,
      "outputs": [
        {
          "output_type": "execute_result",
          "data": {
            "text/plain": [
              "            Telefônia (%)  Internet: DSL (%)  Internet: Fiber Optic (%)\n",
              "Não Possui           9.68              65.63                      56.04\n",
              "Possui              90.32              34.37                      43.96"
            ],
            "text/html": [
              "\n",
              "  <div id=\"df-01711630-73c5-45bf-9d5f-ca9adca18946\">\n",
              "    <div class=\"colab-df-container\">\n",
              "      <div>\n",
              "<style scoped>\n",
              "    .dataframe tbody tr th:only-of-type {\n",
              "        vertical-align: middle;\n",
              "    }\n",
              "\n",
              "    .dataframe tbody tr th {\n",
              "        vertical-align: top;\n",
              "    }\n",
              "\n",
              "    .dataframe thead th {\n",
              "        text-align: right;\n",
              "    }\n",
              "</style>\n",
              "<table border=\"1\" class=\"dataframe\">\n",
              "  <thead>\n",
              "    <tr style=\"text-align: right;\">\n",
              "      <th></th>\n",
              "      <th>Telefônia (%)</th>\n",
              "      <th>Internet: DSL (%)</th>\n",
              "      <th>Internet: Fiber Optic (%)</th>\n",
              "    </tr>\n",
              "  </thead>\n",
              "  <tbody>\n",
              "    <tr>\n",
              "      <th>Não Possui</th>\n",
              "      <td>9.68</td>\n",
              "      <td>65.63</td>\n",
              "      <td>56.04</td>\n",
              "    </tr>\n",
              "    <tr>\n",
              "      <th>Possui</th>\n",
              "      <td>90.32</td>\n",
              "      <td>34.37</td>\n",
              "      <td>43.96</td>\n",
              "    </tr>\n",
              "  </tbody>\n",
              "</table>\n",
              "</div>\n",
              "      <button class=\"colab-df-convert\" onclick=\"convertToInteractive('df-01711630-73c5-45bf-9d5f-ca9adca18946')\"\n",
              "              title=\"Convert this dataframe to an interactive table.\"\n",
              "              style=\"display:none;\">\n",
              "        \n",
              "  <svg xmlns=\"http://www.w3.org/2000/svg\" height=\"24px\"viewBox=\"0 0 24 24\"\n",
              "       width=\"24px\">\n",
              "    <path d=\"M0 0h24v24H0V0z\" fill=\"none\"/>\n",
              "    <path d=\"M18.56 5.44l.94 2.06.94-2.06 2.06-.94-2.06-.94-.94-2.06-.94 2.06-2.06.94zm-11 1L8.5 8.5l.94-2.06 2.06-.94-2.06-.94L8.5 2.5l-.94 2.06-2.06.94zm10 10l.94 2.06.94-2.06 2.06-.94-2.06-.94-.94-2.06-.94 2.06-2.06.94z\"/><path d=\"M17.41 7.96l-1.37-1.37c-.4-.4-.92-.59-1.43-.59-.52 0-1.04.2-1.43.59L10.3 9.45l-7.72 7.72c-.78.78-.78 2.05 0 2.83L4 21.41c.39.39.9.59 1.41.59.51 0 1.02-.2 1.41-.59l7.78-7.78 2.81-2.81c.8-.78.8-2.07 0-2.86zM5.41 20L4 18.59l7.72-7.72 1.47 1.35L5.41 20z\"/>\n",
              "  </svg>\n",
              "      </button>\n",
              "      \n",
              "  <style>\n",
              "    .colab-df-container {\n",
              "      display:flex;\n",
              "      flex-wrap:wrap;\n",
              "      gap: 12px;\n",
              "    }\n",
              "\n",
              "    .colab-df-convert {\n",
              "      background-color: #E8F0FE;\n",
              "      border: none;\n",
              "      border-radius: 50%;\n",
              "      cursor: pointer;\n",
              "      display: none;\n",
              "      fill: #1967D2;\n",
              "      height: 32px;\n",
              "      padding: 0 0 0 0;\n",
              "      width: 32px;\n",
              "    }\n",
              "\n",
              "    .colab-df-convert:hover {\n",
              "      background-color: #E2EBFA;\n",
              "      box-shadow: 0px 1px 2px rgba(60, 64, 67, 0.3), 0px 1px 3px 1px rgba(60, 64, 67, 0.15);\n",
              "      fill: #174EA6;\n",
              "    }\n",
              "\n",
              "    [theme=dark] .colab-df-convert {\n",
              "      background-color: #3B4455;\n",
              "      fill: #D2E3FC;\n",
              "    }\n",
              "\n",
              "    [theme=dark] .colab-df-convert:hover {\n",
              "      background-color: #434B5C;\n",
              "      box-shadow: 0px 1px 3px 1px rgba(0, 0, 0, 0.15);\n",
              "      filter: drop-shadow(0px 1px 2px rgba(0, 0, 0, 0.3));\n",
              "      fill: #FFFFFF;\n",
              "    }\n",
              "  </style>\n",
              "\n",
              "      <script>\n",
              "        const buttonEl =\n",
              "          document.querySelector('#df-01711630-73c5-45bf-9d5f-ca9adca18946 button.colab-df-convert');\n",
              "        buttonEl.style.display =\n",
              "          google.colab.kernel.accessAllowed ? 'block' : 'none';\n",
              "\n",
              "        async function convertToInteractive(key) {\n",
              "          const element = document.querySelector('#df-01711630-73c5-45bf-9d5f-ca9adca18946');\n",
              "          const dataTable =\n",
              "            await google.colab.kernel.invokeFunction('convertToInteractive',\n",
              "                                                     [key], {});\n",
              "          if (!dataTable) return;\n",
              "\n",
              "          const docLinkHtml = 'Like what you see? Visit the ' +\n",
              "            '<a target=\"_blank\" href=https://colab.research.google.com/notebooks/data_table.ipynb>data table notebook</a>'\n",
              "            + ' to learn more about interactive tables.';\n",
              "          element.innerHTML = '';\n",
              "          dataTable['output_type'] = 'display_data';\n",
              "          await google.colab.output.renderOutput(dataTable, element);\n",
              "          const docLink = document.createElement('div');\n",
              "          docLink.innerHTML = docLinkHtml;\n",
              "          element.appendChild(docLink);\n",
              "        }\n",
              "      </script>\n",
              "    </div>\n",
              "  </div>\n",
              "  "
            ]
          },
          "metadata": {},
          "execution_count": 18
        }
      ]
    },
    {
      "cell_type": "code",
      "source": [
        "mesh_names = ['Telefônia (%)','Internet: DSL (%)','Internet: Fiber Optic (%)']\n",
        "colors = ['#82D712','#2C3E50']\n",
        "\n",
        "app = JupyterDash(__name__)\n",
        "\n",
        "app.layout = html.Div([\n",
        "    html.Header(className=\"app-header\"),\n",
        "\n",
        "    html.H2('Relação de Quantidade de Assinatura por Produtos'),\n",
        "    html.P(\"Escolha um Produto:\"),\n",
        "    dcc.Dropdown(id='page-1-dropdown', options = mesh_names, value= mesh_names[0]), \n",
        "    dcc.Graph(id=\"graph-1\")\n",
        "])\n",
        "\n",
        "@app.callback(\n",
        "    Output(\"graph-1\", \"figure\"),\n",
        "    Input('page-1-dropdown', 'value'))\n",
        "def generate_chart(name):\n",
        "    filtro_freq = freq[name]\n",
        "    fig = px.pie(freq, values=filtro_freq, names=freq.index,hole=.2,\n",
        "                 color_discrete_sequence = colors)\n",
        "    return fig\n",
        "\n",
        "app.run_server(mode='inline',debug=True,port=8051)"
      ],
      "metadata": {
        "colab": {
          "base_uri": "https://localhost:8080/",
          "height": 671
        },
        "id": "cYZPBN9G95w5",
        "outputId": "8614a7ed-3789-4e28-ee62-d2755b5bc7b2"
      },
      "execution_count": null,
      "outputs": [
        {
          "output_type": "display_data",
          "data": {
            "text/plain": [
              "<IPython.core.display.Javascript object>"
            ],
            "application/javascript": [
              "(async (port, path, width, height, cache, element) => {\n",
              "    if (!google.colab.kernel.accessAllowed && !cache) {\n",
              "      return;\n",
              "    }\n",
              "    element.appendChild(document.createTextNode(''));\n",
              "    const url = await google.colab.kernel.proxyPort(port, {cache});\n",
              "    const iframe = document.createElement('iframe');\n",
              "    iframe.src = new URL(path, url).toString();\n",
              "    iframe.height = height;\n",
              "    iframe.width = width;\n",
              "    iframe.style.border = 0;\n",
              "    element.appendChild(iframe);\n",
              "  })(8051, \"/\", \"100%\", 650, false, window.element)"
            ]
          },
          "metadata": {}
        }
      ]
    },
    {
      "cell_type": "markdown",
      "source": [
        "\n",
        "\n",
        "---\n",
        "\n",
        "\n",
        "<font color=82D712 size=\"5\"><b>Conclusões</b></font>\n",
        "\n",
        "Ficou claro que a quantidade de clientes por produtos segue a ordem de:<br>\n",
        "\n",
        "<font color=2C3E50 text-align=center><b>Telefonia (90.3%) > Internet Fibra Optica (44%) > Internet DSL (34.4%)</b>\n",
        "\n",
        "<br>"
      ],
      "metadata": {
        "id": "ecOuJdNQE_rt"
      }
    },
    {
      "cell_type": "markdown",
      "source": [
        "## <font color=2C3E50>**05.2. Verificando a relação entre os produtos e o churn**"
      ],
      "metadata": {
        "id": "8w1L9l2V6XBw"
      }
    },
    {
      "cell_type": "code",
      "source": [
        "produtosT = round(produtos.query(\"Telefonia >= 1\")['Churn'].value_counts (normalize = True) * 100, 2)\n",
        "produtosDSL = round(produtos.query(\"Internet_DSL >= 1\")['Churn'].value_counts (normalize = True) * 100, 2)\n",
        "produtosFO = round(produtos.query(\"Internet_Fiber_Optic >= 1\")['Churn'].value_counts(normalize = True) * 100, 2)\n",
        "\n",
        "freq1 = pd.DataFrame({'Telefônia': produtosT, \n",
        "                       'Internet: DSL': produtosDSL,\n",
        "                       'Internet: Fiber Optic': produtosFO,})\n",
        "freq1.rename(index = {0: 'Não Evadiu', 1: 'Evadiu'}, inplace = True)\n",
        "freq1"
      ],
      "metadata": {
        "id": "2KdpGQDp6Wyu",
        "colab": {
          "base_uri": "https://localhost:8080/",
          "height": 112
        },
        "outputId": "baff5b75-23bf-49f7-b9b0-5baa1730c6ab"
      },
      "execution_count": null,
      "outputs": [
        {
          "output_type": "execute_result",
          "data": {
            "text/plain": [
              "            Telefônia  Internet: DSL  Internet: Fiber Optic\n",
              "Não Evadiu      73.29          81.04                  58.11\n",
              "Evadiu          26.71          18.96                  41.89"
            ],
            "text/html": [
              "\n",
              "  <div id=\"df-374fdc13-ffe3-4684-90d2-aeaf33da7c8c\">\n",
              "    <div class=\"colab-df-container\">\n",
              "      <div>\n",
              "<style scoped>\n",
              "    .dataframe tbody tr th:only-of-type {\n",
              "        vertical-align: middle;\n",
              "    }\n",
              "\n",
              "    .dataframe tbody tr th {\n",
              "        vertical-align: top;\n",
              "    }\n",
              "\n",
              "    .dataframe thead th {\n",
              "        text-align: right;\n",
              "    }\n",
              "</style>\n",
              "<table border=\"1\" class=\"dataframe\">\n",
              "  <thead>\n",
              "    <tr style=\"text-align: right;\">\n",
              "      <th></th>\n",
              "      <th>Telefônia</th>\n",
              "      <th>Internet: DSL</th>\n",
              "      <th>Internet: Fiber Optic</th>\n",
              "    </tr>\n",
              "  </thead>\n",
              "  <tbody>\n",
              "    <tr>\n",
              "      <th>Não Evadiu</th>\n",
              "      <td>73.29</td>\n",
              "      <td>81.04</td>\n",
              "      <td>58.11</td>\n",
              "    </tr>\n",
              "    <tr>\n",
              "      <th>Evadiu</th>\n",
              "      <td>26.71</td>\n",
              "      <td>18.96</td>\n",
              "      <td>41.89</td>\n",
              "    </tr>\n",
              "  </tbody>\n",
              "</table>\n",
              "</div>\n",
              "      <button class=\"colab-df-convert\" onclick=\"convertToInteractive('df-374fdc13-ffe3-4684-90d2-aeaf33da7c8c')\"\n",
              "              title=\"Convert this dataframe to an interactive table.\"\n",
              "              style=\"display:none;\">\n",
              "        \n",
              "  <svg xmlns=\"http://www.w3.org/2000/svg\" height=\"24px\"viewBox=\"0 0 24 24\"\n",
              "       width=\"24px\">\n",
              "    <path d=\"M0 0h24v24H0V0z\" fill=\"none\"/>\n",
              "    <path d=\"M18.56 5.44l.94 2.06.94-2.06 2.06-.94-2.06-.94-.94-2.06-.94 2.06-2.06.94zm-11 1L8.5 8.5l.94-2.06 2.06-.94-2.06-.94L8.5 2.5l-.94 2.06-2.06.94zm10 10l.94 2.06.94-2.06 2.06-.94-2.06-.94-.94-2.06-.94 2.06-2.06.94z\"/><path d=\"M17.41 7.96l-1.37-1.37c-.4-.4-.92-.59-1.43-.59-.52 0-1.04.2-1.43.59L10.3 9.45l-7.72 7.72c-.78.78-.78 2.05 0 2.83L4 21.41c.39.39.9.59 1.41.59.51 0 1.02-.2 1.41-.59l7.78-7.78 2.81-2.81c.8-.78.8-2.07 0-2.86zM5.41 20L4 18.59l7.72-7.72 1.47 1.35L5.41 20z\"/>\n",
              "  </svg>\n",
              "      </button>\n",
              "      \n",
              "  <style>\n",
              "    .colab-df-container {\n",
              "      display:flex;\n",
              "      flex-wrap:wrap;\n",
              "      gap: 12px;\n",
              "    }\n",
              "\n",
              "    .colab-df-convert {\n",
              "      background-color: #E8F0FE;\n",
              "      border: none;\n",
              "      border-radius: 50%;\n",
              "      cursor: pointer;\n",
              "      display: none;\n",
              "      fill: #1967D2;\n",
              "      height: 32px;\n",
              "      padding: 0 0 0 0;\n",
              "      width: 32px;\n",
              "    }\n",
              "\n",
              "    .colab-df-convert:hover {\n",
              "      background-color: #E2EBFA;\n",
              "      box-shadow: 0px 1px 2px rgba(60, 64, 67, 0.3), 0px 1px 3px 1px rgba(60, 64, 67, 0.15);\n",
              "      fill: #174EA6;\n",
              "    }\n",
              "\n",
              "    [theme=dark] .colab-df-convert {\n",
              "      background-color: #3B4455;\n",
              "      fill: #D2E3FC;\n",
              "    }\n",
              "\n",
              "    [theme=dark] .colab-df-convert:hover {\n",
              "      background-color: #434B5C;\n",
              "      box-shadow: 0px 1px 3px 1px rgba(0, 0, 0, 0.15);\n",
              "      filter: drop-shadow(0px 1px 2px rgba(0, 0, 0, 0.3));\n",
              "      fill: #FFFFFF;\n",
              "    }\n",
              "  </style>\n",
              "\n",
              "      <script>\n",
              "        const buttonEl =\n",
              "          document.querySelector('#df-374fdc13-ffe3-4684-90d2-aeaf33da7c8c button.colab-df-convert');\n",
              "        buttonEl.style.display =\n",
              "          google.colab.kernel.accessAllowed ? 'block' : 'none';\n",
              "\n",
              "        async function convertToInteractive(key) {\n",
              "          const element = document.querySelector('#df-374fdc13-ffe3-4684-90d2-aeaf33da7c8c');\n",
              "          const dataTable =\n",
              "            await google.colab.kernel.invokeFunction('convertToInteractive',\n",
              "                                                     [key], {});\n",
              "          if (!dataTable) return;\n",
              "\n",
              "          const docLinkHtml = 'Like what you see? Visit the ' +\n",
              "            '<a target=\"_blank\" href=https://colab.research.google.com/notebooks/data_table.ipynb>data table notebook</a>'\n",
              "            + ' to learn more about interactive tables.';\n",
              "          element.innerHTML = '';\n",
              "          dataTable['output_type'] = 'display_data';\n",
              "          await google.colab.output.renderOutput(dataTable, element);\n",
              "          const docLink = document.createElement('div');\n",
              "          docLink.innerHTML = docLinkHtml;\n",
              "          element.appendChild(docLink);\n",
              "        }\n",
              "      </script>\n",
              "    </div>\n",
              "  </div>\n",
              "  "
            ]
          },
          "metadata": {},
          "execution_count": 20
        }
      ]
    },
    {
      "cell_type": "code",
      "source": [
        "mesh_churn = ['Telefônia','Internet: DSL','Internet: Fiber Optic']\n",
        "colors = ['#82D712','#2C3E50']\n",
        "\n",
        "app1 = JupyterDash(__name__)\n",
        "app1.layout = html.Div([\n",
        "    html.Header(className=\"app-header\"),\n",
        "\n",
        "    html.H2('Relação entre os produtos e o churn'),\n",
        "    html.P(\"Escolha um Produto:\"),\n",
        "    dcc.Dropdown(id='page-2-dropdown', options = mesh_churn, value= mesh_churn[0]), \n",
        "    dcc.Graph(id=\"graph-2\"),\n",
        "])\n",
        "#callback 2\n",
        "@app1.callback(\n",
        "    Output(\"graph-2\", \"figure\"),\n",
        "    Input('page-2-dropdown', 'value'))\n",
        "def generate_chart(name):\n",
        "    filtro_freq1 = freq1[name]\n",
        "    fig = px.pie(freq1, values=filtro_freq1, names=freq1.index, hole=.2,\n",
        "                 color_discrete_sequence = colors)\n",
        "    return fig\n",
        "\n",
        "app1.run_server(mode='inline')"
      ],
      "metadata": {
        "colab": {
          "base_uri": "https://localhost:8080/",
          "height": 671
        },
        "id": "2NVxDKSB-gZH",
        "outputId": "8d340d70-6dae-4d0d-ef37-e2df8ff22b70"
      },
      "execution_count": null,
      "outputs": [
        {
          "output_type": "display_data",
          "data": {
            "text/plain": [
              "<IPython.core.display.Javascript object>"
            ],
            "application/javascript": [
              "(async (port, path, width, height, cache, element) => {\n",
              "    if (!google.colab.kernel.accessAllowed && !cache) {\n",
              "      return;\n",
              "    }\n",
              "    element.appendChild(document.createTextNode(''));\n",
              "    const url = await google.colab.kernel.proxyPort(port, {cache});\n",
              "    const iframe = document.createElement('iframe');\n",
              "    iframe.src = new URL(path, url).toString();\n",
              "    iframe.height = height;\n",
              "    iframe.width = width;\n",
              "    iframe.style.border = 0;\n",
              "    element.appendChild(iframe);\n",
              "  })(8050, \"/\", \"100%\", 650, false, window.element)"
            ]
          },
          "metadata": {}
        }
      ]
    },
    {
      "cell_type": "markdown",
      "source": [
        "---\n",
        "\n",
        "\n",
        "<font color=82D712 size=\"5\"><b>Conclusões</b></font>\n",
        "\n",
        "A quantidade de churn por produtos segue a ordem de:<br>\n",
        "\n",
        "<font color=2C3E50><b>Telefonia (27.1%) < Internet DSL(19%) < Internet Fibra Optica (41.9%)</b>\n",
        "\n",
        "<br>"
      ],
      "metadata": {
        "id": "rwHHAE61ON4g"
      }
    },
    {
      "cell_type": "markdown",
      "source": [
        "## <font color=2C3E50>**05.3. Verificando a relação entre os sub-produtos e o churn**"
      ],
      "metadata": {
        "id": "1jzD1LQV2ful"
      }
    },
    {
      "cell_type": "code",
      "source": [
        "sub_produtos = pd.DataFrame(data=df_aluravoz, columns=['Churn', 'Telefonia', 'Internet_DSL', 'Internet_Fiber_Optic', \n",
        "              'Multiplas_Linhas', 'Segurança_On-line', 'Backup_On-line', 'Proteção_Dispositivos', 'Suporte_Técnico', 'TV_Streaming','Streaming_Filmes'])\n",
        "sub_produtos.head()"
      ],
      "metadata": {
        "id": "gLPJ07jE6Wl5",
        "colab": {
          "base_uri": "https://localhost:8080/",
          "height": 288
        },
        "outputId": "3586d244-6d41-4fc0-88ca-1e587092d4c9"
      },
      "execution_count": null,
      "outputs": [
        {
          "output_type": "execute_result",
          "data": {
            "text/plain": [
              "   Churn  Telefonia  Internet_DSL  Internet_Fiber_Optic  Multiplas_Linhas  \\\n",
              "0      0          1             1                     0                 0   \n",
              "1      0          1             1                     0                 1   \n",
              "2      1          1             0                     1                 0   \n",
              "3      1          1             0                     1                 0   \n",
              "4      1          1             0                     1                 0   \n",
              "\n",
              "   Segurança_On-line  Backup_On-line  Proteção_Dispositivos  Suporte_Técnico  \\\n",
              "0                  0               1                      0                1   \n",
              "1                  0               0                      0                0   \n",
              "2                  0               0                      1                0   \n",
              "3                  0               1                      1                0   \n",
              "4                  0               0                      0                1   \n",
              "\n",
              "   TV_Streaming  Streaming_Filmes  \n",
              "0             1                 0  \n",
              "1             0                 1  \n",
              "2             0                 0  \n",
              "3             1                 1  \n",
              "4             1                 0  "
            ],
            "text/html": [
              "\n",
              "  <div id=\"df-c46d1992-82f2-48aa-a554-d6e108559828\">\n",
              "    <div class=\"colab-df-container\">\n",
              "      <div>\n",
              "<style scoped>\n",
              "    .dataframe tbody tr th:only-of-type {\n",
              "        vertical-align: middle;\n",
              "    }\n",
              "\n",
              "    .dataframe tbody tr th {\n",
              "        vertical-align: top;\n",
              "    }\n",
              "\n",
              "    .dataframe thead th {\n",
              "        text-align: right;\n",
              "    }\n",
              "</style>\n",
              "<table border=\"1\" class=\"dataframe\">\n",
              "  <thead>\n",
              "    <tr style=\"text-align: right;\">\n",
              "      <th></th>\n",
              "      <th>Churn</th>\n",
              "      <th>Telefonia</th>\n",
              "      <th>Internet_DSL</th>\n",
              "      <th>Internet_Fiber_Optic</th>\n",
              "      <th>Multiplas_Linhas</th>\n",
              "      <th>Segurança_On-line</th>\n",
              "      <th>Backup_On-line</th>\n",
              "      <th>Proteção_Dispositivos</th>\n",
              "      <th>Suporte_Técnico</th>\n",
              "      <th>TV_Streaming</th>\n",
              "      <th>Streaming_Filmes</th>\n",
              "    </tr>\n",
              "  </thead>\n",
              "  <tbody>\n",
              "    <tr>\n",
              "      <th>0</th>\n",
              "      <td>0</td>\n",
              "      <td>1</td>\n",
              "      <td>1</td>\n",
              "      <td>0</td>\n",
              "      <td>0</td>\n",
              "      <td>0</td>\n",
              "      <td>1</td>\n",
              "      <td>0</td>\n",
              "      <td>1</td>\n",
              "      <td>1</td>\n",
              "      <td>0</td>\n",
              "    </tr>\n",
              "    <tr>\n",
              "      <th>1</th>\n",
              "      <td>0</td>\n",
              "      <td>1</td>\n",
              "      <td>1</td>\n",
              "      <td>0</td>\n",
              "      <td>1</td>\n",
              "      <td>0</td>\n",
              "      <td>0</td>\n",
              "      <td>0</td>\n",
              "      <td>0</td>\n",
              "      <td>0</td>\n",
              "      <td>1</td>\n",
              "    </tr>\n",
              "    <tr>\n",
              "      <th>2</th>\n",
              "      <td>1</td>\n",
              "      <td>1</td>\n",
              "      <td>0</td>\n",
              "      <td>1</td>\n",
              "      <td>0</td>\n",
              "      <td>0</td>\n",
              "      <td>0</td>\n",
              "      <td>1</td>\n",
              "      <td>0</td>\n",
              "      <td>0</td>\n",
              "      <td>0</td>\n",
              "    </tr>\n",
              "    <tr>\n",
              "      <th>3</th>\n",
              "      <td>1</td>\n",
              "      <td>1</td>\n",
              "      <td>0</td>\n",
              "      <td>1</td>\n",
              "      <td>0</td>\n",
              "      <td>0</td>\n",
              "      <td>1</td>\n",
              "      <td>1</td>\n",
              "      <td>0</td>\n",
              "      <td>1</td>\n",
              "      <td>1</td>\n",
              "    </tr>\n",
              "    <tr>\n",
              "      <th>4</th>\n",
              "      <td>1</td>\n",
              "      <td>1</td>\n",
              "      <td>0</td>\n",
              "      <td>1</td>\n",
              "      <td>0</td>\n",
              "      <td>0</td>\n",
              "      <td>0</td>\n",
              "      <td>0</td>\n",
              "      <td>1</td>\n",
              "      <td>1</td>\n",
              "      <td>0</td>\n",
              "    </tr>\n",
              "  </tbody>\n",
              "</table>\n",
              "</div>\n",
              "      <button class=\"colab-df-convert\" onclick=\"convertToInteractive('df-c46d1992-82f2-48aa-a554-d6e108559828')\"\n",
              "              title=\"Convert this dataframe to an interactive table.\"\n",
              "              style=\"display:none;\">\n",
              "        \n",
              "  <svg xmlns=\"http://www.w3.org/2000/svg\" height=\"24px\"viewBox=\"0 0 24 24\"\n",
              "       width=\"24px\">\n",
              "    <path d=\"M0 0h24v24H0V0z\" fill=\"none\"/>\n",
              "    <path d=\"M18.56 5.44l.94 2.06.94-2.06 2.06-.94-2.06-.94-.94-2.06-.94 2.06-2.06.94zm-11 1L8.5 8.5l.94-2.06 2.06-.94-2.06-.94L8.5 2.5l-.94 2.06-2.06.94zm10 10l.94 2.06.94-2.06 2.06-.94-2.06-.94-.94-2.06-.94 2.06-2.06.94z\"/><path d=\"M17.41 7.96l-1.37-1.37c-.4-.4-.92-.59-1.43-.59-.52 0-1.04.2-1.43.59L10.3 9.45l-7.72 7.72c-.78.78-.78 2.05 0 2.83L4 21.41c.39.39.9.59 1.41.59.51 0 1.02-.2 1.41-.59l7.78-7.78 2.81-2.81c.8-.78.8-2.07 0-2.86zM5.41 20L4 18.59l7.72-7.72 1.47 1.35L5.41 20z\"/>\n",
              "  </svg>\n",
              "      </button>\n",
              "      \n",
              "  <style>\n",
              "    .colab-df-container {\n",
              "      display:flex;\n",
              "      flex-wrap:wrap;\n",
              "      gap: 12px;\n",
              "    }\n",
              "\n",
              "    .colab-df-convert {\n",
              "      background-color: #E8F0FE;\n",
              "      border: none;\n",
              "      border-radius: 50%;\n",
              "      cursor: pointer;\n",
              "      display: none;\n",
              "      fill: #1967D2;\n",
              "      height: 32px;\n",
              "      padding: 0 0 0 0;\n",
              "      width: 32px;\n",
              "    }\n",
              "\n",
              "    .colab-df-convert:hover {\n",
              "      background-color: #E2EBFA;\n",
              "      box-shadow: 0px 1px 2px rgba(60, 64, 67, 0.3), 0px 1px 3px 1px rgba(60, 64, 67, 0.15);\n",
              "      fill: #174EA6;\n",
              "    }\n",
              "\n",
              "    [theme=dark] .colab-df-convert {\n",
              "      background-color: #3B4455;\n",
              "      fill: #D2E3FC;\n",
              "    }\n",
              "\n",
              "    [theme=dark] .colab-df-convert:hover {\n",
              "      background-color: #434B5C;\n",
              "      box-shadow: 0px 1px 3px 1px rgba(0, 0, 0, 0.15);\n",
              "      filter: drop-shadow(0px 1px 2px rgba(0, 0, 0, 0.3));\n",
              "      fill: #FFFFFF;\n",
              "    }\n",
              "  </style>\n",
              "\n",
              "      <script>\n",
              "        const buttonEl =\n",
              "          document.querySelector('#df-c46d1992-82f2-48aa-a554-d6e108559828 button.colab-df-convert');\n",
              "        buttonEl.style.display =\n",
              "          google.colab.kernel.accessAllowed ? 'block' : 'none';\n",
              "\n",
              "        async function convertToInteractive(key) {\n",
              "          const element = document.querySelector('#df-c46d1992-82f2-48aa-a554-d6e108559828');\n",
              "          const dataTable =\n",
              "            await google.colab.kernel.invokeFunction('convertToInteractive',\n",
              "                                                     [key], {});\n",
              "          if (!dataTable) return;\n",
              "\n",
              "          const docLinkHtml = 'Like what you see? Visit the ' +\n",
              "            '<a target=\"_blank\" href=https://colab.research.google.com/notebooks/data_table.ipynb>data table notebook</a>'\n",
              "            + ' to learn more about interactive tables.';\n",
              "          element.innerHTML = '';\n",
              "          dataTable['output_type'] = 'display_data';\n",
              "          await google.colab.output.renderOutput(dataTable, element);\n",
              "          const docLink = document.createElement('div');\n",
              "          docLink.innerHTML = docLinkHtml;\n",
              "          element.appendChild(docLink);\n",
              "        }\n",
              "      </script>\n",
              "    </div>\n",
              "  </div>\n",
              "  "
            ]
          },
          "metadata": {},
          "execution_count": 22
        }
      ]
    },
    {
      "cell_type": "code",
      "source": [
        "#subprodutos = []\n",
        "#produtos = []\n",
        "#valor = []\n",
        "\n",
        "#for col in sub_produtos.columns:\n",
        "  #subprodutos.append(col),\n",
        "  #valor.append(sub_produtos.query(\"Churn >= 1\")[col].value_counts(ascending=True))"
      ],
      "metadata": {
        "id": "XVcxJLLUFnfz"
      },
      "execution_count": null,
      "outputs": []
    },
    {
      "cell_type": "code",
      "source": [
        "#Descobrindo a frequencia de churn para cada coluna do dataframe \n",
        "\n",
        "for col in sub_produtos:\n",
        "   print(\"=\"*40)\n",
        "   print('Quantidade de Valores Únicos da Coluna:', col)\n",
        "   print('')\n",
        "   print(sub_produtos.query(\"Churn >= 1\")[col].value_counts())\n",
        "   print('')"
      ],
      "metadata": {
        "id": "rEpVcRXd98M8"
      },
      "execution_count": null,
      "outputs": []
    },
    {
      "cell_type": "code",
      "source": [
        "# Criando o Gráfico\n",
        "data = dict(\n",
        "    subprodutos=[\"Telefônia\", \"Internet\",\"Multiplas_Linhas\",\"Segurança_On-line\", \"Backup_On-line\",\n",
        "                 'Proteção_Dispositivos','Suporte_Técnico', 'TV_Streaming','Streaming_Filmes'],          \n",
        "    produtos=[\"\", \"\", \"Telefônia\", \"Internet\", \"Internet\", \"Internet\", \"Internet\", \"Internet\", \"Internet\"],\n",
        "    valor=[1699, 1756, 850, 295, 523, 545, 310, 814, 818])\n",
        "\n",
        "fig_sunburst = px.sunburst(data, names='subprodutos', parents='produtos',\n",
        "    values='valor', color_discrete_sequence = colors)\n",
        "\n",
        "fig_sunburst.show()"
      ],
      "metadata": {
        "id": "LOl0drn6R-Xu",
        "colab": {
          "base_uri": "https://localhost:8080/",
          "height": 542
        },
        "outputId": "8ca1edd5-fdd4-4325-a118-fb45b89fa827"
      },
      "execution_count": null,
      "outputs": [
        {
          "output_type": "display_data",
          "data": {
            "text/html": [
              "<html>\n",
              "<head><meta charset=\"utf-8\" /></head>\n",
              "<body>\n",
              "    <div>            <script src=\"https://cdnjs.cloudflare.com/ajax/libs/mathjax/2.7.5/MathJax.js?config=TeX-AMS-MML_SVG\"></script><script type=\"text/javascript\">if (window.MathJax) {MathJax.Hub.Config({SVG: {font: \"STIX-Web\"}});}</script>                <script type=\"text/javascript\">window.PlotlyConfig = {MathJaxConfig: 'local'};</script>\n",
              "        <script src=\"https://cdn.plot.ly/plotly-2.8.3.min.js\"></script>                <div id=\"63173395-1def-499c-ad85-cbbd10d9272c\" class=\"plotly-graph-div\" style=\"height:525px; width:100%;\"></div>            <script type=\"text/javascript\">                                    window.PLOTLYENV=window.PLOTLYENV || {};                                    if (document.getElementById(\"63173395-1def-499c-ad85-cbbd10d9272c\")) {                    Plotly.newPlot(                        \"63173395-1def-499c-ad85-cbbd10d9272c\",                        [{\"domain\":{\"x\":[0.0,1.0],\"y\":[0.0,1.0]},\"hovertemplate\":\"subprodutos=%{label}<br>valor=%{value}<br>produtos=%{parent}<extra></extra>\",\"labels\":[\"Telef\\u00f4nia\",\"Internet\",\"Multiplas_Linhas\",\"Seguran\\u00e7a_On-line\",\"Backup_On-line\",\"Prote\\u00e7\\u00e3o_Dispositivos\",\"Suporte_T\\u00e9cnico\",\"TV_Streaming\",\"Streaming_Filmes\"],\"name\":\"\",\"parents\":[\"\",\"\",\"Telef\\u00f4nia\",\"Internet\",\"Internet\",\"Internet\",\"Internet\",\"Internet\",\"Internet\"],\"values\":[1699,1756,850,295,523,545,310,814,818],\"type\":\"sunburst\"}],                        {\"template\":{\"data\":{\"bar\":[{\"error_x\":{\"color\":\"#2a3f5f\"},\"error_y\":{\"color\":\"#2a3f5f\"},\"marker\":{\"line\":{\"color\":\"#E5ECF6\",\"width\":0.5},\"pattern\":{\"fillmode\":\"overlay\",\"size\":10,\"solidity\":0.2}},\"type\":\"bar\"}],\"barpolar\":[{\"marker\":{\"line\":{\"color\":\"#E5ECF6\",\"width\":0.5},\"pattern\":{\"fillmode\":\"overlay\",\"size\":10,\"solidity\":0.2}},\"type\":\"barpolar\"}],\"carpet\":[{\"aaxis\":{\"endlinecolor\":\"#2a3f5f\",\"gridcolor\":\"white\",\"linecolor\":\"white\",\"minorgridcolor\":\"white\",\"startlinecolor\":\"#2a3f5f\"},\"baxis\":{\"endlinecolor\":\"#2a3f5f\",\"gridcolor\":\"white\",\"linecolor\":\"white\",\"minorgridcolor\":\"white\",\"startlinecolor\":\"#2a3f5f\"},\"type\":\"carpet\"}],\"choropleth\":[{\"colorbar\":{\"outlinewidth\":0,\"ticks\":\"\"},\"type\":\"choropleth\"}],\"contour\":[{\"colorbar\":{\"outlinewidth\":0,\"ticks\":\"\"},\"colorscale\":[[0.0,\"#0d0887\"],[0.1111111111111111,\"#46039f\"],[0.2222222222222222,\"#7201a8\"],[0.3333333333333333,\"#9c179e\"],[0.4444444444444444,\"#bd3786\"],[0.5555555555555556,\"#d8576b\"],[0.6666666666666666,\"#ed7953\"],[0.7777777777777778,\"#fb9f3a\"],[0.8888888888888888,\"#fdca26\"],[1.0,\"#f0f921\"]],\"type\":\"contour\"}],\"contourcarpet\":[{\"colorbar\":{\"outlinewidth\":0,\"ticks\":\"\"},\"type\":\"contourcarpet\"}],\"heatmap\":[{\"colorbar\":{\"outlinewidth\":0,\"ticks\":\"\"},\"colorscale\":[[0.0,\"#0d0887\"],[0.1111111111111111,\"#46039f\"],[0.2222222222222222,\"#7201a8\"],[0.3333333333333333,\"#9c179e\"],[0.4444444444444444,\"#bd3786\"],[0.5555555555555556,\"#d8576b\"],[0.6666666666666666,\"#ed7953\"],[0.7777777777777778,\"#fb9f3a\"],[0.8888888888888888,\"#fdca26\"],[1.0,\"#f0f921\"]],\"type\":\"heatmap\"}],\"heatmapgl\":[{\"colorbar\":{\"outlinewidth\":0,\"ticks\":\"\"},\"colorscale\":[[0.0,\"#0d0887\"],[0.1111111111111111,\"#46039f\"],[0.2222222222222222,\"#7201a8\"],[0.3333333333333333,\"#9c179e\"],[0.4444444444444444,\"#bd3786\"],[0.5555555555555556,\"#d8576b\"],[0.6666666666666666,\"#ed7953\"],[0.7777777777777778,\"#fb9f3a\"],[0.8888888888888888,\"#fdca26\"],[1.0,\"#f0f921\"]],\"type\":\"heatmapgl\"}],\"histogram\":[{\"marker\":{\"pattern\":{\"fillmode\":\"overlay\",\"size\":10,\"solidity\":0.2}},\"type\":\"histogram\"}],\"histogram2d\":[{\"colorbar\":{\"outlinewidth\":0,\"ticks\":\"\"},\"colorscale\":[[0.0,\"#0d0887\"],[0.1111111111111111,\"#46039f\"],[0.2222222222222222,\"#7201a8\"],[0.3333333333333333,\"#9c179e\"],[0.4444444444444444,\"#bd3786\"],[0.5555555555555556,\"#d8576b\"],[0.6666666666666666,\"#ed7953\"],[0.7777777777777778,\"#fb9f3a\"],[0.8888888888888888,\"#fdca26\"],[1.0,\"#f0f921\"]],\"type\":\"histogram2d\"}],\"histogram2dcontour\":[{\"colorbar\":{\"outlinewidth\":0,\"ticks\":\"\"},\"colorscale\":[[0.0,\"#0d0887\"],[0.1111111111111111,\"#46039f\"],[0.2222222222222222,\"#7201a8\"],[0.3333333333333333,\"#9c179e\"],[0.4444444444444444,\"#bd3786\"],[0.5555555555555556,\"#d8576b\"],[0.6666666666666666,\"#ed7953\"],[0.7777777777777778,\"#fb9f3a\"],[0.8888888888888888,\"#fdca26\"],[1.0,\"#f0f921\"]],\"type\":\"histogram2dcontour\"}],\"mesh3d\":[{\"colorbar\":{\"outlinewidth\":0,\"ticks\":\"\"},\"type\":\"mesh3d\"}],\"parcoords\":[{\"line\":{\"colorbar\":{\"outlinewidth\":0,\"ticks\":\"\"}},\"type\":\"parcoords\"}],\"pie\":[{\"automargin\":true,\"type\":\"pie\"}],\"scatter\":[{\"marker\":{\"colorbar\":{\"outlinewidth\":0,\"ticks\":\"\"}},\"type\":\"scatter\"}],\"scatter3d\":[{\"line\":{\"colorbar\":{\"outlinewidth\":0,\"ticks\":\"\"}},\"marker\":{\"colorbar\":{\"outlinewidth\":0,\"ticks\":\"\"}},\"type\":\"scatter3d\"}],\"scattercarpet\":[{\"marker\":{\"colorbar\":{\"outlinewidth\":0,\"ticks\":\"\"}},\"type\":\"scattercarpet\"}],\"scattergeo\":[{\"marker\":{\"colorbar\":{\"outlinewidth\":0,\"ticks\":\"\"}},\"type\":\"scattergeo\"}],\"scattergl\":[{\"marker\":{\"colorbar\":{\"outlinewidth\":0,\"ticks\":\"\"}},\"type\":\"scattergl\"}],\"scattermapbox\":[{\"marker\":{\"colorbar\":{\"outlinewidth\":0,\"ticks\":\"\"}},\"type\":\"scattermapbox\"}],\"scatterpolar\":[{\"marker\":{\"colorbar\":{\"outlinewidth\":0,\"ticks\":\"\"}},\"type\":\"scatterpolar\"}],\"scatterpolargl\":[{\"marker\":{\"colorbar\":{\"outlinewidth\":0,\"ticks\":\"\"}},\"type\":\"scatterpolargl\"}],\"scatterternary\":[{\"marker\":{\"colorbar\":{\"outlinewidth\":0,\"ticks\":\"\"}},\"type\":\"scatterternary\"}],\"surface\":[{\"colorbar\":{\"outlinewidth\":0,\"ticks\":\"\"},\"colorscale\":[[0.0,\"#0d0887\"],[0.1111111111111111,\"#46039f\"],[0.2222222222222222,\"#7201a8\"],[0.3333333333333333,\"#9c179e\"],[0.4444444444444444,\"#bd3786\"],[0.5555555555555556,\"#d8576b\"],[0.6666666666666666,\"#ed7953\"],[0.7777777777777778,\"#fb9f3a\"],[0.8888888888888888,\"#fdca26\"],[1.0,\"#f0f921\"]],\"type\":\"surface\"}],\"table\":[{\"cells\":{\"fill\":{\"color\":\"#EBF0F8\"},\"line\":{\"color\":\"white\"}},\"header\":{\"fill\":{\"color\":\"#C8D4E3\"},\"line\":{\"color\":\"white\"}},\"type\":\"table\"}]},\"layout\":{\"annotationdefaults\":{\"arrowcolor\":\"#2a3f5f\",\"arrowhead\":0,\"arrowwidth\":1},\"autotypenumbers\":\"strict\",\"coloraxis\":{\"colorbar\":{\"outlinewidth\":0,\"ticks\":\"\"}},\"colorscale\":{\"diverging\":[[0,\"#8e0152\"],[0.1,\"#c51b7d\"],[0.2,\"#de77ae\"],[0.3,\"#f1b6da\"],[0.4,\"#fde0ef\"],[0.5,\"#f7f7f7\"],[0.6,\"#e6f5d0\"],[0.7,\"#b8e186\"],[0.8,\"#7fbc41\"],[0.9,\"#4d9221\"],[1,\"#276419\"]],\"sequential\":[[0.0,\"#0d0887\"],[0.1111111111111111,\"#46039f\"],[0.2222222222222222,\"#7201a8\"],[0.3333333333333333,\"#9c179e\"],[0.4444444444444444,\"#bd3786\"],[0.5555555555555556,\"#d8576b\"],[0.6666666666666666,\"#ed7953\"],[0.7777777777777778,\"#fb9f3a\"],[0.8888888888888888,\"#fdca26\"],[1.0,\"#f0f921\"]],\"sequentialminus\":[[0.0,\"#0d0887\"],[0.1111111111111111,\"#46039f\"],[0.2222222222222222,\"#7201a8\"],[0.3333333333333333,\"#9c179e\"],[0.4444444444444444,\"#bd3786\"],[0.5555555555555556,\"#d8576b\"],[0.6666666666666666,\"#ed7953\"],[0.7777777777777778,\"#fb9f3a\"],[0.8888888888888888,\"#fdca26\"],[1.0,\"#f0f921\"]]},\"colorway\":[\"#636efa\",\"#EF553B\",\"#00cc96\",\"#ab63fa\",\"#FFA15A\",\"#19d3f3\",\"#FF6692\",\"#B6E880\",\"#FF97FF\",\"#FECB52\"],\"font\":{\"color\":\"#2a3f5f\"},\"geo\":{\"bgcolor\":\"white\",\"lakecolor\":\"white\",\"landcolor\":\"#E5ECF6\",\"showlakes\":true,\"showland\":true,\"subunitcolor\":\"white\"},\"hoverlabel\":{\"align\":\"left\"},\"hovermode\":\"closest\",\"mapbox\":{\"style\":\"light\"},\"paper_bgcolor\":\"white\",\"plot_bgcolor\":\"#E5ECF6\",\"polar\":{\"angularaxis\":{\"gridcolor\":\"white\",\"linecolor\":\"white\",\"ticks\":\"\"},\"bgcolor\":\"#E5ECF6\",\"radialaxis\":{\"gridcolor\":\"white\",\"linecolor\":\"white\",\"ticks\":\"\"}},\"scene\":{\"xaxis\":{\"backgroundcolor\":\"#E5ECF6\",\"gridcolor\":\"white\",\"gridwidth\":2,\"linecolor\":\"white\",\"showbackground\":true,\"ticks\":\"\",\"zerolinecolor\":\"white\"},\"yaxis\":{\"backgroundcolor\":\"#E5ECF6\",\"gridcolor\":\"white\",\"gridwidth\":2,\"linecolor\":\"white\",\"showbackground\":true,\"ticks\":\"\",\"zerolinecolor\":\"white\"},\"zaxis\":{\"backgroundcolor\":\"#E5ECF6\",\"gridcolor\":\"white\",\"gridwidth\":2,\"linecolor\":\"white\",\"showbackground\":true,\"ticks\":\"\",\"zerolinecolor\":\"white\"}},\"shapedefaults\":{\"line\":{\"color\":\"#2a3f5f\"}},\"ternary\":{\"aaxis\":{\"gridcolor\":\"white\",\"linecolor\":\"white\",\"ticks\":\"\"},\"baxis\":{\"gridcolor\":\"white\",\"linecolor\":\"white\",\"ticks\":\"\"},\"bgcolor\":\"#E5ECF6\",\"caxis\":{\"gridcolor\":\"white\",\"linecolor\":\"white\",\"ticks\":\"\"}},\"title\":{\"x\":0.05},\"xaxis\":{\"automargin\":true,\"gridcolor\":\"white\",\"linecolor\":\"white\",\"ticks\":\"\",\"title\":{\"standoff\":15},\"zerolinecolor\":\"white\",\"zerolinewidth\":2},\"yaxis\":{\"automargin\":true,\"gridcolor\":\"white\",\"linecolor\":\"white\",\"ticks\":\"\",\"title\":{\"standoff\":15},\"zerolinecolor\":\"white\",\"zerolinewidth\":2}}},\"legend\":{\"tracegroupgap\":0},\"margin\":{\"t\":60},\"sunburstcolorway\":[\"#82D712\",\"#2C3E50\"]},                        {\"responsive\": true}                    ).then(function(){\n",
              "                            \n",
              "var gd = document.getElementById('63173395-1def-499c-ad85-cbbd10d9272c');\n",
              "var x = new MutationObserver(function (mutations, observer) {{\n",
              "        var display = window.getComputedStyle(gd).display;\n",
              "        if (!display || display === 'none') {{\n",
              "            console.log([gd, 'removed!']);\n",
              "            Plotly.purge(gd);\n",
              "            observer.disconnect();\n",
              "        }}\n",
              "}});\n",
              "\n",
              "// Listen for the removal of the full notebook cells\n",
              "var notebookContainer = gd.closest('#notebook-container');\n",
              "if (notebookContainer) {{\n",
              "    x.observe(notebookContainer, {childList: true});\n",
              "}}\n",
              "\n",
              "// Listen for the clearing of the current output cell\n",
              "var outputEl = gd.closest('.output');\n",
              "if (outputEl) {{\n",
              "    x.observe(outputEl, {childList: true});\n",
              "}}\n",
              "\n",
              "                        })                };                            </script>        </div>\n",
              "</body>\n",
              "</html>"
            ]
          },
          "metadata": {}
        }
      ]
    },
    {
      "cell_type": "markdown",
      "source": [
        "\n",
        "\n",
        "---\n",
        "<font color=82D712 size=\"5\"><b>Conclusões</b></font>\n",
        "\n",
        "1. Quanto aos sub-produtos da <font color=82D712><b>Telefônia</b></font>:\n",
        "    * O serviço de telefônia possui apenas o sub-produto <b>Multiplas Linhas</b> que apresenta *menos da metade* do churn deste produto\n",
        "        \n",
        "    <br>\n",
        "    \n",
        "2. Quanto aos sub-produtos da <font color=82D712><b>Internet</b></font>:\n",
        "    * Os serviços relacionados ao <b>StremingTV</b> (tv a cabo) e <b>Streming Filmes</b> possuem *grande* taxa de churn.\n",
        "    * <b>Proteção de Dispositivos</b> e <b>Backup online</b> também apresentam uma quantidade *consideravel* de churn\n",
        "    * <b>Suporte Técnico</b> e <b>Segurança Online</b> possuem a *menor quantidade* de churn.\n",
        "\n"
      ],
      "metadata": {
        "id": "w8w46HMP6Zzf"
      }
    },
    {
      "cell_type": "markdown",
      "source": [
        "# <font color=2C3E50>**06. Terceira Hipótese**"
      ],
      "metadata": {
        "id": "GukcS05C2R2e"
      }
    },
    {
      "cell_type": "markdown",
      "source": [
        "A <font color=82D712><b>Terceira Hipótese</b></font> buscar identificar se existe alto churn entre os clientes que possuem tempo de contrato (tenure). A hipótese será explorada da seguinte forma:<br> \n",
        "\n",
        "<font color=82D712><b>1.</b></font> <b>Criar</b> um histograma de frequencia do Tenure.<br>\n",
        "<font color=82D712><b>2.</b></font> <b>Verificar</b> se há relação de churn e o tenure.<br>\n",
        "<font color=82D712><b>3.</b></font> <b>Verificar</b> a relação entre o churn, tenure e o perfil dos clientes.<br>"
      ],
      "metadata": {
        "id": "cIg1OxbK6A6n"
      }
    },
    {
      "cell_type": "code",
      "source": [
        "ternure = pd.DataFrame(data=df_aluravoz, columns=['Tenure','Churn'])\n",
        "ternure.head()"
      ],
      "metadata": {
        "id": "7hNrKVSm2gW2",
        "colab": {
          "base_uri": "https://localhost:8080/",
          "height": 206
        },
        "outputId": "6928d7f8-1cf6-4e9d-c4a8-422457e5880c"
      },
      "execution_count": null,
      "outputs": [
        {
          "output_type": "execute_result",
          "data": {
            "text/plain": [
              "   Tenure  Churn\n",
              "0       9      0\n",
              "1       9      0\n",
              "2       4      1\n",
              "3      13      1\n",
              "4       3      1"
            ],
            "text/html": [
              "\n",
              "  <div id=\"df-94ac4576-e421-4d12-a090-f7e8bd318fd3\">\n",
              "    <div class=\"colab-df-container\">\n",
              "      <div>\n",
              "<style scoped>\n",
              "    .dataframe tbody tr th:only-of-type {\n",
              "        vertical-align: middle;\n",
              "    }\n",
              "\n",
              "    .dataframe tbody tr th {\n",
              "        vertical-align: top;\n",
              "    }\n",
              "\n",
              "    .dataframe thead th {\n",
              "        text-align: right;\n",
              "    }\n",
              "</style>\n",
              "<table border=\"1\" class=\"dataframe\">\n",
              "  <thead>\n",
              "    <tr style=\"text-align: right;\">\n",
              "      <th></th>\n",
              "      <th>Tenure</th>\n",
              "      <th>Churn</th>\n",
              "    </tr>\n",
              "  </thead>\n",
              "  <tbody>\n",
              "    <tr>\n",
              "      <th>0</th>\n",
              "      <td>9</td>\n",
              "      <td>0</td>\n",
              "    </tr>\n",
              "    <tr>\n",
              "      <th>1</th>\n",
              "      <td>9</td>\n",
              "      <td>0</td>\n",
              "    </tr>\n",
              "    <tr>\n",
              "      <th>2</th>\n",
              "      <td>4</td>\n",
              "      <td>1</td>\n",
              "    </tr>\n",
              "    <tr>\n",
              "      <th>3</th>\n",
              "      <td>13</td>\n",
              "      <td>1</td>\n",
              "    </tr>\n",
              "    <tr>\n",
              "      <th>4</th>\n",
              "      <td>3</td>\n",
              "      <td>1</td>\n",
              "    </tr>\n",
              "  </tbody>\n",
              "</table>\n",
              "</div>\n",
              "      <button class=\"colab-df-convert\" onclick=\"convertToInteractive('df-94ac4576-e421-4d12-a090-f7e8bd318fd3')\"\n",
              "              title=\"Convert this dataframe to an interactive table.\"\n",
              "              style=\"display:none;\">\n",
              "        \n",
              "  <svg xmlns=\"http://www.w3.org/2000/svg\" height=\"24px\"viewBox=\"0 0 24 24\"\n",
              "       width=\"24px\">\n",
              "    <path d=\"M0 0h24v24H0V0z\" fill=\"none\"/>\n",
              "    <path d=\"M18.56 5.44l.94 2.06.94-2.06 2.06-.94-2.06-.94-.94-2.06-.94 2.06-2.06.94zm-11 1L8.5 8.5l.94-2.06 2.06-.94-2.06-.94L8.5 2.5l-.94 2.06-2.06.94zm10 10l.94 2.06.94-2.06 2.06-.94-2.06-.94-.94-2.06-.94 2.06-2.06.94z\"/><path d=\"M17.41 7.96l-1.37-1.37c-.4-.4-.92-.59-1.43-.59-.52 0-1.04.2-1.43.59L10.3 9.45l-7.72 7.72c-.78.78-.78 2.05 0 2.83L4 21.41c.39.39.9.59 1.41.59.51 0 1.02-.2 1.41-.59l7.78-7.78 2.81-2.81c.8-.78.8-2.07 0-2.86zM5.41 20L4 18.59l7.72-7.72 1.47 1.35L5.41 20z\"/>\n",
              "  </svg>\n",
              "      </button>\n",
              "      \n",
              "  <style>\n",
              "    .colab-df-container {\n",
              "      display:flex;\n",
              "      flex-wrap:wrap;\n",
              "      gap: 12px;\n",
              "    }\n",
              "\n",
              "    .colab-df-convert {\n",
              "      background-color: #E8F0FE;\n",
              "      border: none;\n",
              "      border-radius: 50%;\n",
              "      cursor: pointer;\n",
              "      display: none;\n",
              "      fill: #1967D2;\n",
              "      height: 32px;\n",
              "      padding: 0 0 0 0;\n",
              "      width: 32px;\n",
              "    }\n",
              "\n",
              "    .colab-df-convert:hover {\n",
              "      background-color: #E2EBFA;\n",
              "      box-shadow: 0px 1px 2px rgba(60, 64, 67, 0.3), 0px 1px 3px 1px rgba(60, 64, 67, 0.15);\n",
              "      fill: #174EA6;\n",
              "    }\n",
              "\n",
              "    [theme=dark] .colab-df-convert {\n",
              "      background-color: #3B4455;\n",
              "      fill: #D2E3FC;\n",
              "    }\n",
              "\n",
              "    [theme=dark] .colab-df-convert:hover {\n",
              "      background-color: #434B5C;\n",
              "      box-shadow: 0px 1px 3px 1px rgba(0, 0, 0, 0.15);\n",
              "      filter: drop-shadow(0px 1px 2px rgba(0, 0, 0, 0.3));\n",
              "      fill: #FFFFFF;\n",
              "    }\n",
              "  </style>\n",
              "\n",
              "      <script>\n",
              "        const buttonEl =\n",
              "          document.querySelector('#df-94ac4576-e421-4d12-a090-f7e8bd318fd3 button.colab-df-convert');\n",
              "        buttonEl.style.display =\n",
              "          google.colab.kernel.accessAllowed ? 'block' : 'none';\n",
              "\n",
              "        async function convertToInteractive(key) {\n",
              "          const element = document.querySelector('#df-94ac4576-e421-4d12-a090-f7e8bd318fd3');\n",
              "          const dataTable =\n",
              "            await google.colab.kernel.invokeFunction('convertToInteractive',\n",
              "                                                     [key], {});\n",
              "          if (!dataTable) return;\n",
              "\n",
              "          const docLinkHtml = 'Like what you see? Visit the ' +\n",
              "            '<a target=\"_blank\" href=https://colab.research.google.com/notebooks/data_table.ipynb>data table notebook</a>'\n",
              "            + ' to learn more about interactive tables.';\n",
              "          element.innerHTML = '';\n",
              "          dataTable['output_type'] = 'display_data';\n",
              "          await google.colab.output.renderOutput(dataTable, element);\n",
              "          const docLink = document.createElement('div');\n",
              "          docLink.innerHTML = docLinkHtml;\n",
              "          element.appendChild(docLink);\n",
              "        }\n",
              "      </script>\n",
              "    </div>\n",
              "  </div>\n",
              "  "
            ]
          },
          "metadata": {},
          "execution_count": 26
        }
      ]
    },
    {
      "cell_type": "markdown",
      "source": [
        " ## <font color=2C3E50>**06.1. Histograma de frequência do Tenure.**"
      ],
      "metadata": {
        "id": "1_pRHXD_SwBk"
      }
    },
    {
      "cell_type": "code",
      "source": [
        "bin = round(ternure.Tenure.unique().shape[0] /2) #decidindo o numero de colunas para o histográfico\n",
        "\n",
        "f, ax = plt.subplots(figsize=(6, 6))\n",
        "sns.set_theme(style=\"whitegrid\")\n",
        "ax.set_title('Frequência do Tenure (Tempo de Contrato)', \n",
        "             fontsize=16, pad=20, weight='bold')\n",
        "\n",
        "#plot\n",
        "sns.histplot(data=df_aluravoz.Tenure,bins=bin, color=\"#2C3E50\", kde=True)\n",
        "\n",
        "plt.show()"
      ],
      "metadata": {
        "id": "be6GlvoQ7NIq",
        "colab": {
          "base_uri": "https://localhost:8080/",
          "height": 427
        },
        "outputId": "ce070dda-378c-4554-ff3b-a440ec5dbdea"
      },
      "execution_count": null,
      "outputs": [
        {
          "output_type": "display_data",
          "data": {
            "text/plain": [
              "<Figure size 432x432 with 1 Axes>"
            ],
            "image/png": "[encoded data removed]"
          },
          "metadata": {}
        }
      ]
    },
    {
      "cell_type": "markdown",
      "source": [
        "---\n",
        "<font color=82D712 size=\"5\"><b>Conclusões</b></font>\n",
        "\n",
        "* Nsse histograma *não há normalidade*. \n",
        "* Há uma grande quantidade de clientes com tempo de contratação 0 e acima de 65. \n",
        "* Logo, vamos identificar se esse comportamento vem da evasão, relacionado as duas variaveis."
      ],
      "metadata": {
        "id": "9_dz2HZ37Py7"
      }
    },
    {
      "cell_type": "markdown",
      "source": [
        "## <font color=2C3E50>**06.2. Churn e Tenure**"
      ],
      "metadata": {
        "id": "gP_4oItRS7hT"
      }
    },
    {
      "cell_type": "code",
      "source": [
        "# Grafíco de Distribuição do churn em relação ao tempo de contrato\n",
        "f, ax = plt.subplots(figsize=(8, 6))\n",
        "ax.set_title('Distribuição da Evasão de Clientes vs Tempo de Contrato', \n",
        "             fontsize=18, pad=20, weight='bold')\n",
        "\n",
        "# Plot\n",
        "ax = sns.violinplot(x=\"Churn\", y=\"Tenure\", data=ternure, \n",
        "                    palette={0:\"#2C3E50\", 1:\"#82D712\"}, \n",
        "                    edgecolor=\"gray\", linewidth=5, fontsize = 14)\n",
        "\n",
        "# Anotações Estatísticas\n",
        "medians = ternure.groupby(['Churn'])['Tenure'].median()\n",
        "\n",
        "for xtick in ax.get_xticks():\n",
        "    ax.text(xtick, medians[xtick] + 4.5, medians[xtick], \n",
        "            horizontalalignment='left', size='x-large',\n",
        "            color='w',weight='bold', bbox={'facecolor':'#2E2E2E'})\n",
        "\n",
        "#Inserir linhas de max, min e a media (para que evadiu)\n",
        "ax.axhline(max(ternure['Tenure']), color = 'k', linestyle=':', linewidth=1.5)\n",
        "ax.axhline(min(ternure['Tenure']), color = 'k', linestyle=':', linewidth=1.5)\n",
        "ax.axhline(10, color = '#048BA8', linestyle='--', linewidth=2.5)\n",
        "\n",
        "#Grid\n",
        "ax.set(ylim=(-10, 85), xticklabels=('Não Evadiu', 'Evadiu'), \n",
        "       xlabel=('Evasão dos Clientes'), ylabel=('Tempo de Contrato'))\n",
        "\n",
        "plt.show()"
      ],
      "metadata": {
        "id": "kR8qIDzC7OA-",
        "colab": {
          "base_uri": "https://localhost:8080/",
          "height": 428
        },
        "outputId": "e5b8106f-d5bc-4838-93a4-5e5c94244338"
      },
      "execution_count": null,
      "outputs": [
        {
          "output_type": "display_data",
          "data": {
            "text/plain": [
              "<Figure size 576x432 with 1 Axes>"
            ],
            "image/png": "[encoded data removed]"
          },
          "metadata": {}
        }
      ]
    },
    {
      "cell_type": "markdown",
      "source": [
        "---\n",
        "<font color=82D712 size=\"5\"><b>Conclusões</b></font>\n",
        "\n",
        "* O churn está muito concentrado em quem possui *10 ou menos tempo de contrato*, o que explica o comportamento identificado pelo histograma. \n",
        "* Uma razão para esta questão é a de que pode ter a ver com a <b>qualidade dos produtos</b> ou a <b>expectativa</b> que os clientes tinham do produto. Alguns dados que poderiam ser relacionados seria a de relação do <b>perfil dos clientes</b> com esse fator, por exemplo, foi identificado que há uma quantidade de Idosos maior e que, em geral, possuem necessidades mais basicas quanto a intenet e uso de telefone. \n",
        "* Deste modo, podemos analisar os dados já considerando esses perfils e traçar algumas razões para esse quadro."
      ],
      "metadata": {
        "id": "-JfbROYc7Ta_"
      }
    },
    {
      "cell_type": "markdown",
      "source": [
        "## <font color=2C3E50>**06.3. Evasão  X  Churn  X  Perfil de Clientes**"
      ],
      "metadata": {
        "id": "Lry_imC27YqH"
      }
    },
    {
      "cell_type": "code",
      "source": [
        "ECP = pd.DataFrame(data=df_aluravoz, columns=['Tenure','Churn', 'Sexo', 'Idoso', 'Parceiros', 'Dependentes'])\n",
        "ECP.head()"
      ],
      "metadata": {
        "id": "h4EEd9e67ZLH",
        "colab": {
          "base_uri": "https://localhost:8080/",
          "height": 206
        },
        "outputId": "1fa0f506-58a1-4b0e-ee2c-4144896b4a22"
      },
      "execution_count": null,
      "outputs": [
        {
          "output_type": "execute_result",
          "data": {
            "text/plain": [
              "   Tenure  Churn  Sexo  Idoso  Parceiros  Dependentes\n",
              "0       9      0     1      0          1            1\n",
              "1       9      0     0      0          0            0\n",
              "2       4      1     0      0          0            0\n",
              "3      13      1     0      1          1            0\n",
              "4       3      1     1      1          1            0"
            ],
            "text/html": [
              "\n",
              "  <div id=\"df-9561c03d-6d72-4c82-a25f-062852009b7b\">\n",
              "    <div class=\"colab-df-container\">\n",
              "      <div>\n",
              "<style scoped>\n",
              "    .dataframe tbody tr th:only-of-type {\n",
              "        vertical-align: middle;\n",
              "    }\n",
              "\n",
              "    .dataframe tbody tr th {\n",
              "        vertical-align: top;\n",
              "    }\n",
              "\n",
              "    .dataframe thead th {\n",
              "        text-align: right;\n",
              "    }\n",
              "</style>\n",
              "<table border=\"1\" class=\"dataframe\">\n",
              "  <thead>\n",
              "    <tr style=\"text-align: right;\">\n",
              "      <th></th>\n",
              "      <th>Tenure</th>\n",
              "      <th>Churn</th>\n",
              "      <th>Sexo</th>\n",
              "      <th>Idoso</th>\n",
              "      <th>Parceiros</th>\n",
              "      <th>Dependentes</th>\n",
              "    </tr>\n",
              "  </thead>\n",
              "  <tbody>\n",
              "    <tr>\n",
              "      <th>0</th>\n",
              "      <td>9</td>\n",
              "      <td>0</td>\n",
              "      <td>1</td>\n",
              "      <td>0</td>\n",
              "      <td>1</td>\n",
              "      <td>1</td>\n",
              "    </tr>\n",
              "    <tr>\n",
              "      <th>1</th>\n",
              "      <td>9</td>\n",
              "      <td>0</td>\n",
              "      <td>0</td>\n",
              "      <td>0</td>\n",
              "      <td>0</td>\n",
              "      <td>0</td>\n",
              "    </tr>\n",
              "    <tr>\n",
              "      <th>2</th>\n",
              "      <td>4</td>\n",
              "      <td>1</td>\n",
              "      <td>0</td>\n",
              "      <td>0</td>\n",
              "      <td>0</td>\n",
              "      <td>0</td>\n",
              "    </tr>\n",
              "    <tr>\n",
              "      <th>3</th>\n",
              "      <td>13</td>\n",
              "      <td>1</td>\n",
              "      <td>0</td>\n",
              "      <td>1</td>\n",
              "      <td>1</td>\n",
              "      <td>0</td>\n",
              "    </tr>\n",
              "    <tr>\n",
              "      <th>4</th>\n",
              "      <td>3</td>\n",
              "      <td>1</td>\n",
              "      <td>1</td>\n",
              "      <td>1</td>\n",
              "      <td>1</td>\n",
              "      <td>0</td>\n",
              "    </tr>\n",
              "  </tbody>\n",
              "</table>\n",
              "</div>\n",
              "      <button class=\"colab-df-convert\" onclick=\"convertToInteractive('df-9561c03d-6d72-4c82-a25f-062852009b7b')\"\n",
              "              title=\"Convert this dataframe to an interactive table.\"\n",
              "              style=\"display:none;\">\n",
              "        \n",
              "  <svg xmlns=\"http://www.w3.org/2000/svg\" height=\"24px\"viewBox=\"0 0 24 24\"\n",
              "       width=\"24px\">\n",
              "    <path d=\"M0 0h24v24H0V0z\" fill=\"none\"/>\n",
              "    <path d=\"M18.56 5.44l.94 2.06.94-2.06 2.06-.94-2.06-.94-.94-2.06-.94 2.06-2.06.94zm-11 1L8.5 8.5l.94-2.06 2.06-.94-2.06-.94L8.5 2.5l-.94 2.06-2.06.94zm10 10l.94 2.06.94-2.06 2.06-.94-2.06-.94-.94-2.06-.94 2.06-2.06.94z\"/><path d=\"M17.41 7.96l-1.37-1.37c-.4-.4-.92-.59-1.43-.59-.52 0-1.04.2-1.43.59L10.3 9.45l-7.72 7.72c-.78.78-.78 2.05 0 2.83L4 21.41c.39.39.9.59 1.41.59.51 0 1.02-.2 1.41-.59l7.78-7.78 2.81-2.81c.8-.78.8-2.07 0-2.86zM5.41 20L4 18.59l7.72-7.72 1.47 1.35L5.41 20z\"/>\n",
              "  </svg>\n",
              "      </button>\n",
              "      \n",
              "  <style>\n",
              "    .colab-df-container {\n",
              "      display:flex;\n",
              "      flex-wrap:wrap;\n",
              "      gap: 12px;\n",
              "    }\n",
              "\n",
              "    .colab-df-convert {\n",
              "      background-color: #E8F0FE;\n",
              "      border: none;\n",
              "      border-radius: 50%;\n",
              "      cursor: pointer;\n",
              "      display: none;\n",
              "      fill: #1967D2;\n",
              "      height: 32px;\n",
              "      padding: 0 0 0 0;\n",
              "      width: 32px;\n",
              "    }\n",
              "\n",
              "    .colab-df-convert:hover {\n",
              "      background-color: #E2EBFA;\n",
              "      box-shadow: 0px 1px 2px rgba(60, 64, 67, 0.3), 0px 1px 3px 1px rgba(60, 64, 67, 0.15);\n",
              "      fill: #174EA6;\n",
              "    }\n",
              "\n",
              "    [theme=dark] .colab-df-convert {\n",
              "      background-color: #3B4455;\n",
              "      fill: #D2E3FC;\n",
              "    }\n",
              "\n",
              "    [theme=dark] .colab-df-convert:hover {\n",
              "      background-color: #434B5C;\n",
              "      box-shadow: 0px 1px 3px 1px rgba(0, 0, 0, 0.15);\n",
              "      filter: drop-shadow(0px 1px 2px rgba(0, 0, 0, 0.3));\n",
              "      fill: #FFFFFF;\n",
              "    }\n",
              "  </style>\n",
              "\n",
              "      <script>\n",
              "        const buttonEl =\n",
              "          document.querySelector('#df-9561c03d-6d72-4c82-a25f-062852009b7b button.colab-df-convert');\n",
              "        buttonEl.style.display =\n",
              "          google.colab.kernel.accessAllowed ? 'block' : 'none';\n",
              "\n",
              "        async function convertToInteractive(key) {\n",
              "          const element = document.querySelector('#df-9561c03d-6d72-4c82-a25f-062852009b7b');\n",
              "          const dataTable =\n",
              "            await google.colab.kernel.invokeFunction('convertToInteractive',\n",
              "                                                     [key], {});\n",
              "          if (!dataTable) return;\n",
              "\n",
              "          const docLinkHtml = 'Like what you see? Visit the ' +\n",
              "            '<a target=\"_blank\" href=https://colab.research.google.com/notebooks/data_table.ipynb>data table notebook</a>'\n",
              "            + ' to learn more about interactive tables.';\n",
              "          element.innerHTML = '';\n",
              "          dataTable['output_type'] = 'display_data';\n",
              "          await google.colab.output.renderOutput(dataTable, element);\n",
              "          const docLink = document.createElement('div');\n",
              "          docLink.innerHTML = docLinkHtml;\n",
              "          element.appendChild(docLink);\n",
              "        }\n",
              "      </script>\n",
              "    </div>\n",
              "  </div>\n",
              "  "
            ]
          },
          "metadata": {},
          "execution_count": 31
        }
      ]
    },
    {
      "cell_type": "code",
      "source": [
        "# Vars\n",
        "labels = ('Não Evadiu','Evadiu')\n",
        "filtro = ECP.query(\"Tenure <= 10\")\n",
        "\n",
        "#Plot - Perfil dos Clientes com tempo de contrato ≤ 10\n",
        "fig, axs = plt.subplots(ncols=2, nrows=2, figsize=(9, 8))\n",
        "plt.subplots_adjust(wspace = 0.4, hspace = 0.4)\n",
        "st = fig.suptitle(\"Perfil dos Clientes com tempo de contrato ≤ 10\", \n",
        "                  fontsize = 17, fontweight='bold')\n",
        "\n",
        "#plot - Dependentes vs tempo de contrato ≤ 10\n",
        "ax = sns.countplot(x=\"Dependentes\", hue=\"Churn\", data=filtro,\n",
        "                   ax=axs[0,0], palette={0:\"#048BA8\", 1:\"#2C3E50\"})\n",
        "\n",
        "ax.set_title('Dependentes',fontsize=12, pad=10, weight='bold')\n",
        "ax.set(ylabel='Quantidade de clientes',xlabel='', \n",
        "       xticklabels=('Não Possui', 'Possui'), ylim=(0, 950))\n",
        "ax.legend(fontsize = 11, labels = labels)\n",
        "\n",
        "#plot - Parceiros vs tempo de contrato ≤ 10\n",
        "ax = sns.countplot(x=\"Parceiros\", hue=\"Churn\", data=filtro, \n",
        "                   ax=axs[0,1], palette={0:\"#B6EA44\", 1:\"#82D712\"})\n",
        "\n",
        "ax.set_title('Parceiros',fontsize=12, pad=10, weight='bold')\n",
        "ax.set(xlabel='', ylabel='', xticklabels=('Solteiro', 'Possui Parceiro(s)'), ylim=(0, 950))\n",
        "ax.legend(fontsize = 11, labels = labels)\n",
        "\n",
        "#plot - Cidadão Senior vs tempo de contrato ≤ 10\n",
        "ax = sns.countplot(x=\"Idoso\", hue=\"Churn\", data=filtro, \n",
        "                   ax=axs[1,0],palette={0:\"#B6EA44\", 1:\"#82D712\"})\n",
        "\n",
        "ax.set_title('Faixa Etária',fontsize=12, pad=10, weight='bold')\n",
        "ax.set(xlabel='', ylabel='Quantidade de clientes', xticklabels=('Adultos', 'Idosos'), ylim=(0, 950))\n",
        "ax.legend(fontsize = 11, labels = labels)\n",
        "\n",
        "#plot - Sexo vs tempo de contrato ≤ 10\n",
        "ax = sns.countplot(x=\"Sexo\", hue=\"Churn\", data=filtro, \n",
        "                   ax=axs[1,1], palette={0:\"#048BA8\", 1:\"#2C3E50\"})\n",
        "\n",
        "ax.set_title('Sexo',fontsize=12, pad=10, weight='bold')\n",
        "ax.set(xlabel='', ylabel='', xticklabels=('Homem', 'Mulher'), ylim=(0, 950))\n",
        "ax.legend(loc='lower right', fontsize = 11, labels = labels)\n",
        "\n",
        "#Mostrar o Grafíco\n",
        "plt.show()"
      ],
      "metadata": {
        "id": "_59JqnMg7a7n",
        "colab": {
          "base_uri": "https://localhost:8080/",
          "height": 543
        },
        "outputId": "15b27e54-ef84-47bc-fff7-ca1b241fad59"
      },
      "execution_count": null,
      "outputs": [
        {
          "output_type": "display_data",
          "data": {
            "text/plain": [
              "<Figure size 648x576 with 4 Axes>"
            ],
            "image/png": "[encoded data removed]"
          },
          "metadata": {}
        }
      ]
    },
    {
      "cell_type": "markdown",
      "source": [
        "---\n",
        "<font color=82D712 size=\"5\"><b>Conclusões</b></font>\n",
        "\n",
        "* Clientes que <b>não possui dependentes</b> e <b>parceiros</b> tem mais chances de evadir\n",
        "* Há poucos clientes que são <b>idosos</b> e começaram contrato recentemente, mas grande parte dos que começaram, evadiram.\n",
        "* <b>Jovens</b> possuem mais pessoas que não evadiram do que evadiram, porém, também apresenta uma alta quantidade de churn.\n",
        "* O <b>Sexo</b> se comporta de forma bastante regular, mantendo a proporção visualizada no Perfil dos clientes. Sendo, então, possivel determinar que *não há relação entre o churn e o sexo*.\n",
        "\n",
        "1. Respondendo a hipótese de que o churn tenha origem na expectativa e necessidades que os clientes tinham com produto, o gráfico aponta a seguinte informação:\n",
        "    - Pessoas que <b>não possuem depententes</b> e <b>estão solteiras</b>, tendem a ser mais jovens, este fato somado com o fato do churn desta faixa etária ser elevado (assim como a quantidade abaixo de 10 de ternure) indicam que os serviços ofertados podem *não serem capazes de suprirem está faixa étari*a.\n",
        "    - Também se pode fazer um argumento de que há uma quantidade, pequena, mas relevante de <b>novos clientes idosos que estão evadindo</b>. O que pode nos informar que não há uma evasão forte de clientes idosos com ternure alto por *acomodação dessa população* ao seriço contratato."
      ],
      "metadata": {
        "id": "Xeq9R2Lt7dQ3"
      }
    },
    {
      "cell_type": "markdown",
      "source": [
        "# <font color=2C3E50>**07. Conclusões**"
      ],
      "metadata": {
        "id": "KkT69a8c2Vmf"
      }
    },
    {
      "cell_type": "markdown",
      "source": [
        "Em suma, a evasão parece estar concetrada entre os <font color=82D712><b>primeiros meses de contrato</b></font> dos clientes, e que em geral, apresentam um <font color=82D712><b>perfil predominantente jovens e solteiros, sem dependetentes</b></font>, indicando que os produtos ofertados não estão sendo suficientes para suprir a necessidade dessa parcela da população.<br>\n",
        "Entre os produtos ofertados a <font color=82D712><b>fibra optica</b></font> é a que mais possui churn relativo (quantidade de clientes/churn), visto que no mercado a procura desse tipo de produto esta em alta pode indicar um sério problema de qualidade nesse produto e na sua competitividade com os concorrentes. Nessa linha, os sub-produtos de internet, apresentaram uma quantidade grande de churn relevantes, em especial os relacionados ao <font color=82D712><b>serviço de streming</b></font>, que também são serviços de alta procura, levando a conclusão de que a competitivdade destes também está baixa.<br>\n",
        "Conclui-se que a melhor forma para minimizar a evasão de clientes na Alura Voz é ter um <b>modelo treinado</b> que vai classificar clientes como potenciais pessoas a deixar a empresa de modo, a auxiliar a equipe de vendas. Dessa forma, o proximo relatório tera como foco a contrução desses modelos.\n",
        "\n",
        "---\n",
        "<font color=82D712 size=\"2\"><a href='https://colab.research.google.com/drive/1OEbCcqU4XS1l95fLunfQOuunN6vgx_xW'> <b>Próximo ➜</b></a></font>"
      ],
      "metadata": {
        "id": "PNhhlUULVfSx"
      }
    }
  ]
}